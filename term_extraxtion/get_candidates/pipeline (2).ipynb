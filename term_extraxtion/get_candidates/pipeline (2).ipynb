{
 "cells": [
  {
   "cell_type": "code",
   "execution_count": 2,
   "metadata": {},
   "outputs": [
    {
     "name": "stderr",
     "output_type": "stream",
     "text": [
      "Installing mystem to /home/jovyan/.local/bin/mystem from http://download.cdn.yandex.net/mystem/mystem-3.0-linux3.1-64bit.tar.gz\n"
     ]
    }
   ],
   "source": [
    "import pandas as pd\n",
    "import os\n",
    "from rutermextract import TermExtractor\n",
    "import re\n",
    "from nltk.stem.snowball import SnowballStemmer\n",
    "stemmer = SnowballStemmer(\"russian\")\n",
    "\n",
    "from pymystem3 import Mystem\n",
    "m = Mystem()\n",
    "\n",
    "\n",
    "\n",
    "from numpy import array"
   ]
  },
  {
   "cell_type": "markdown",
   "metadata": {},
   "source": [
    "### Таблица с метаданными корпуса"
   ]
  },
  {
   "cell_type": "code",
   "execution_count": 4,
   "metadata": {},
   "outputs": [],
   "source": [
    "metadata = pd.read_csv('meta_rubrics_final.tsv', sep = '\\t')"
   ]
  },
  {
   "cell_type": "code",
   "execution_count": 43,
   "metadata": {},
   "outputs": [
    {
     "data": {
      "text/plain": [
       "30628"
      ]
     },
     "execution_count": 43,
     "metadata": {},
     "output_type": "execute_result"
    }
   ],
   "source": [
    "len(metadata)"
   ]
  },
  {
   "cell_type": "code",
   "execution_count": 5,
   "metadata": {},
   "outputs": [
    {
     "data": {
      "text/html": [
       "<div>\n",
       "<style scoped>\n",
       "    .dataframe tbody tr th:only-of-type {\n",
       "        vertical-align: middle;\n",
       "    }\n",
       "\n",
       "    .dataframe tbody tr th {\n",
       "        vertical-align: top;\n",
       "    }\n",
       "\n",
       "    .dataframe thead th {\n",
       "        text-align: right;\n",
       "    }\n",
       "</style>\n",
       "<table border=\"1\" class=\"dataframe\">\n",
       "  <thead>\n",
       "    <tr style=\"text-align: right;\">\n",
       "      <th></th>\n",
       "      <th>path</th>\n",
       "      <th>source</th>\n",
       "      <th>url</th>\n",
       "      <th>date</th>\n",
       "      <th>title</th>\n",
       "      <th>subtitle</th>\n",
       "      <th>author</th>\n",
       "      <th>tags</th>\n",
       "      <th>genre</th>\n",
       "      <th>mapped_rubrics</th>\n",
       "      <th>final_rubrics</th>\n",
       "      <th>number_of_rubrics</th>\n",
       "    </tr>\n",
       "  </thead>\n",
       "  <tbody>\n",
       "    <tr>\n",
       "      <th>0</th>\n",
       "      <td>chrdk.ru/articles/sci_10_salt_lakes.txt</td>\n",
       "      <td>https://chrdk.ru/</td>\n",
       "      <td>https://chrdk.ru/sci/10_salt_lakes</td>\n",
       "      <td>16.08.2017</td>\n",
       "      <td>Десять самых известных соленых озер</td>\n",
       "      <td>NaN</td>\n",
       "      <td>Егор Задереев</td>\n",
       "      <td>География_Экология</td>\n",
       "      <td>Статьи</td>\n",
       "      <td>Науки о земле|Науки о земле</td>\n",
       "      <td>Науки о земле</td>\n",
       "      <td>One</td>\n",
       "    </tr>\n",
       "    <tr>\n",
       "      <th>1</th>\n",
       "      <td>chrdk.ru/articles/sci_33_fractures.txt</td>\n",
       "      <td>https://chrdk.ru/</td>\n",
       "      <td>https://chrdk.ru/sci/33_fractures</td>\n",
       "      <td>08.08.2017</td>\n",
       "      <td>33 перелома</td>\n",
       "      <td>Скелет мужчины с 33 переломами нашли археологи...</td>\n",
       "      <td>Екатерина Боровикова</td>\n",
       "      <td>Российская наука_Антропология</td>\n",
       "      <td>Статьи</td>\n",
       "      <td>История|Мусор</td>\n",
       "      <td>История</td>\n",
       "      <td>One</td>\n",
       "    </tr>\n",
       "    <tr>\n",
       "      <th>2</th>\n",
       "      <td>chrdk.ru/articles/sci_46_chromosomes.txt</td>\n",
       "      <td>https://chrdk.ru/</td>\n",
       "      <td>https://chrdk.ru/sci/46_chromosomes</td>\n",
       "      <td>04.08.2017</td>\n",
       "      <td>46 — норма?</td>\n",
       "      <td>Считаем хромосомы: сколько человеку для счасть...</td>\n",
       "      <td>Полина Лосева</td>\n",
       "      <td>Генетика_Медицина</td>\n",
       "      <td>Статьи</td>\n",
       "      <td>Физиология человека|Физиология человека</td>\n",
       "      <td>Физиология человека</td>\n",
       "      <td>One</td>\n",
       "    </tr>\n",
       "    <tr>\n",
       "      <th>3</th>\n",
       "      <td>chrdk.ru/articles/sci_750gev.txt</td>\n",
       "      <td>https://chrdk.ru/</td>\n",
       "      <td>https://chrdk.ru/sci/750gev</td>\n",
       "      <td>23.08.2016</td>\n",
       "      <td>Несбывшиеся надежды на новую физику</td>\n",
       "      <td>Какие «страшные сценарии» физики хотели забыть...</td>\n",
       "      <td>Екатерина Боровикова</td>\n",
       "      <td>Физика_Интервью_Закрытия</td>\n",
       "      <td>Статьи</td>\n",
       "      <td>Мусор|Мусор|Физика</td>\n",
       "      <td>Физика</td>\n",
       "      <td>One</td>\n",
       "    </tr>\n",
       "    <tr>\n",
       "      <th>4</th>\n",
       "      <td>chrdk.ru/articles/sci_alien_anatomy.txt</td>\n",
       "      <td>https://chrdk.ru/</td>\n",
       "      <td>https://chrdk.ru/sci/alien_anatomy</td>\n",
       "      <td>22.05.2017</td>\n",
       "      <td>Анатомия каменных пришельцев</td>\n",
       "      <td>Спецпроект «Чердака» и «Красивой науки»</td>\n",
       "      <td>NaN</td>\n",
       "      <td>Геология_Космос</td>\n",
       "      <td>Статьи</td>\n",
       "      <td>Космос|Науки о земле</td>\n",
       "      <td>Космос</td>\n",
       "      <td>Multi</td>\n",
       "    </tr>\n",
       "  </tbody>\n",
       "</table>\n",
       "</div>"
      ],
      "text/plain": [
       "                                       path             source  \\\n",
       "0   chrdk.ru/articles/sci_10_salt_lakes.txt  https://chrdk.ru/   \n",
       "1    chrdk.ru/articles/sci_33_fractures.txt  https://chrdk.ru/   \n",
       "2  chrdk.ru/articles/sci_46_chromosomes.txt  https://chrdk.ru/   \n",
       "3          chrdk.ru/articles/sci_750gev.txt  https://chrdk.ru/   \n",
       "4   chrdk.ru/articles/sci_alien_anatomy.txt  https://chrdk.ru/   \n",
       "\n",
       "                                   url        date  \\\n",
       "0   https://chrdk.ru/sci/10_salt_lakes  16.08.2017   \n",
       "1    https://chrdk.ru/sci/33_fractures  08.08.2017   \n",
       "2  https://chrdk.ru/sci/46_chromosomes  04.08.2017   \n",
       "3          https://chrdk.ru/sci/750gev  23.08.2016   \n",
       "4   https://chrdk.ru/sci/alien_anatomy  22.05.2017   \n",
       "\n",
       "                                 title  \\\n",
       "0  Десять самых известных соленых озер   \n",
       "1                          33 перелома   \n",
       "2                          46 — норма?   \n",
       "3  Несбывшиеся надежды на новую физику   \n",
       "4         Анатомия каменных пришельцев   \n",
       "\n",
       "                                            subtitle                author  \\\n",
       "0                                                NaN         Егор Задереев   \n",
       "1  Скелет мужчины с 33 переломами нашли археологи...  Екатерина Боровикова   \n",
       "2  Считаем хромосомы: сколько человеку для счасть...         Полина Лосева   \n",
       "3  Какие «страшные сценарии» физики хотели забыть...  Екатерина Боровикова   \n",
       "4            Спецпроект «Чердака» и «Красивой науки»                   NaN   \n",
       "\n",
       "                            tags   genre  \\\n",
       "0             География_Экология  Статьи   \n",
       "1  Российская наука_Антропология  Статьи   \n",
       "2              Генетика_Медицина  Статьи   \n",
       "3       Физика_Интервью_Закрытия  Статьи   \n",
       "4                Геология_Космос  Статьи   \n",
       "\n",
       "                            mapped_rubrics        final_rubrics  \\\n",
       "0              Науки о земле|Науки о земле        Науки о земле   \n",
       "1                            История|Мусор              История   \n",
       "2  Физиология человека|Физиология человека  Физиология человека   \n",
       "3                       Мусор|Мусор|Физика               Физика   \n",
       "4                     Космос|Науки о земле               Космос   \n",
       "\n",
       "  number_of_rubrics  \n",
       "0               One  \n",
       "1               One  \n",
       "2               One  \n",
       "3               One  \n",
       "4             Multi  "
      ]
     },
     "execution_count": 5,
     "metadata": {},
     "output_type": "execute_result"
    }
   ],
   "source": [
    "metadata.head()"
   ]
  },
  {
   "cell_type": "markdown",
   "metadata": {},
   "source": [
    "#### Частотный словарь ####"
   ]
  },
  {
   "cell_type": "code",
   "execution_count": 7,
   "metadata": {},
   "outputs": [],
   "source": [
    "df = pd.read_csv('freqrnc2011.csv', sep='\\t')\n",
    "freq_dict = df[['Lemma','Freq(ipm)']]\n",
    "sorted_freq = freq_dict.sort_values(by=['Freq(ipm)'])"
   ]
  },
  {
   "cell_type": "code",
   "execution_count": 8,
   "metadata": {},
   "outputs": [
    {
     "data": {
      "text/plain": [
       "52138"
      ]
     },
     "execution_count": 8,
     "metadata": {},
     "output_type": "execute_result"
    }
   ],
   "source": [
    "len(freq_dict)"
   ]
  },
  {
   "cell_type": "code",
   "execution_count": 9,
   "metadata": {},
   "outputs": [
    {
     "data": {
      "text/html": [
       "<div>\n",
       "<style scoped>\n",
       "    .dataframe tbody tr th:only-of-type {\n",
       "        vertical-align: middle;\n",
       "    }\n",
       "\n",
       "    .dataframe tbody tr th {\n",
       "        vertical-align: top;\n",
       "    }\n",
       "\n",
       "    .dataframe thead th {\n",
       "        text-align: right;\n",
       "    }\n",
       "</style>\n",
       "<table border=\"1\" class=\"dataframe\">\n",
       "  <thead>\n",
       "    <tr style=\"text-align: right;\">\n",
       "      <th></th>\n",
       "      <th>Lemma</th>\n",
       "      <th>Freq(ipm)</th>\n",
       "    </tr>\n",
       "  </thead>\n",
       "  <tbody>\n",
       "    <tr>\n",
       "      <th>29836</th>\n",
       "      <td>перекачать</td>\n",
       "      <td>0.4</td>\n",
       "    </tr>\n",
       "    <tr>\n",
       "      <th>32918</th>\n",
       "      <td>помешанный</td>\n",
       "      <td>0.4</td>\n",
       "    </tr>\n",
       "    <tr>\n",
       "      <th>15847</th>\n",
       "      <td>касситерит</td>\n",
       "      <td>0.4</td>\n",
       "    </tr>\n",
       "    <tr>\n",
       "      <th>15850</th>\n",
       "      <td>кастаньета</td>\n",
       "      <td>0.4</td>\n",
       "    </tr>\n",
       "    <tr>\n",
       "      <th>32896</th>\n",
       "      <td>померанец</td>\n",
       "      <td>0.4</td>\n",
       "    </tr>\n",
       "  </tbody>\n",
       "</table>\n",
       "</div>"
      ],
      "text/plain": [
       "            Lemma  Freq(ipm)\n",
       "29836  перекачать        0.4\n",
       "32918  помешанный        0.4\n",
       "15847  касситерит        0.4\n",
       "15850  кастаньета        0.4\n",
       "32896   померанец        0.4"
      ]
     },
     "execution_count": 9,
     "metadata": {},
     "output_type": "execute_result"
    }
   ],
   "source": [
    "sorted_freq.head()"
   ]
  },
  {
   "cell_type": "code",
   "execution_count": 10,
   "metadata": {},
   "outputs": [
    {
     "data": {
      "text/html": [
       "<div>\n",
       "<style scoped>\n",
       "    .dataframe tbody tr th:only-of-type {\n",
       "        vertical-align: middle;\n",
       "    }\n",
       "\n",
       "    .dataframe tbody tr th {\n",
       "        vertical-align: top;\n",
       "    }\n",
       "\n",
       "    .dataframe thead th {\n",
       "        text-align: right;\n",
       "    }\n",
       "</style>\n",
       "<table border=\"1\" class=\"dataframe\">\n",
       "  <thead>\n",
       "    <tr style=\"text-align: right;\">\n",
       "      <th></th>\n",
       "      <th>Lemma</th>\n",
       "      <th>Freq(ipm)</th>\n",
       "    </tr>\n",
       "  </thead>\n",
       "  <tbody>\n",
       "    <tr>\n",
       "      <th>51957</th>\n",
       "      <td>я</td>\n",
       "      <td>12684.4</td>\n",
       "    </tr>\n",
       "    <tr>\n",
       "      <th>22019</th>\n",
       "      <td>на</td>\n",
       "      <td>15867.3</td>\n",
       "    </tr>\n",
       "    <tr>\n",
       "      <th>23328</th>\n",
       "      <td>не</td>\n",
       "      <td>18028.0</td>\n",
       "    </tr>\n",
       "    <tr>\n",
       "      <th>3710</th>\n",
       "      <td>в</td>\n",
       "      <td>31374.2</td>\n",
       "    </tr>\n",
       "    <tr>\n",
       "      <th>13824</th>\n",
       "      <td>и</td>\n",
       "      <td>35801.8</td>\n",
       "    </tr>\n",
       "  </tbody>\n",
       "</table>\n",
       "</div>"
      ],
      "text/plain": [
       "      Lemma  Freq(ipm)\n",
       "51957     я    12684.4\n",
       "22019    на    15867.3\n",
       "23328    не    18028.0\n",
       "3710      в    31374.2\n",
       "13824     и    35801.8"
      ]
     },
     "execution_count": 10,
     "metadata": {},
     "output_type": "execute_result"
    }
   ],
   "source": [
    "sorted_freq.tail()"
   ]
  },
  {
   "cell_type": "code",
   "execution_count": 11,
   "metadata": {},
   "outputs": [],
   "source": [
    "lemmas = list(freq_dict['Lemma'])\n",
    "values = list(freq_dict['Freq(ipm)'])\n",
    "\n",
    "dictionary = dict(zip(lemmas, values))"
   ]
  },
  {
   "cell_type": "markdown",
   "metadata": {},
   "source": [
    "#### Символьные биграммы ####"
   ]
  },
  {
   "cell_type": "code",
   "execution_count": 12,
   "metadata": {},
   "outputs": [],
   "source": [
    "with open('bigrams.txt') as fl:\n",
    "    bi = fl.read()\n",
    "    \n",
    "with open('trigrams.txt') as fl:\n",
    "    tri = fl.read()\n",
    "    \n",
    "with open('tetragrams.txt') as fl:\n",
    "    tetra = fl.read()\n",
    "    "
   ]
  },
  {
   "cell_type": "code",
   "execution_count": 13,
   "metadata": {},
   "outputs": [],
   "source": [
    "bigrams = bi.split('\\n')\n",
    "trigrams = tri.split('\\n')\n",
    "tetragrams = tetra.split('\\n')"
   ]
  },
  {
   "cell_type": "markdown",
   "metadata": {},
   "source": [
    "#### Аффиксы ####"
   ]
  },
  {
   "cell_type": "code",
   "execution_count": 14,
   "metadata": {},
   "outputs": [],
   "source": [
    "with open('suf2.txt') as fl:\n",
    "    s2 = fl.read()\n",
    "\n",
    "with open('suf3.txt') as fl:\n",
    "    s3 = fl.read()\n",
    "    \n",
    "with open('suf4.txt') as fl:\n",
    "    s4 = fl.read()\n",
    "\n",
    "with open('pref2.txt') as fl:\n",
    "    p2 = fl.read()\n",
    "\n",
    "with open('pref3.txt') as fl:\n",
    "    p3 = fl.read()\n",
    "\n",
    "with open('pref4.txt') as fl:\n",
    "    p4 = fl.read()"
   ]
  },
  {
   "cell_type": "code",
   "execution_count": 15,
   "metadata": {},
   "outputs": [],
   "source": [
    "suf2 = s2.split('\\n')\n",
    "suf3 = s3.split('\\n')\n",
    "suf4 = s4.split('\\n')\n",
    "pref2 = p2.split('\\n')\n",
    "pref3 = p3.split('\\n')\n",
    "pref4 = p4.split('\\n')"
   ]
  },
  {
   "cell_type": "markdown",
   "metadata": {},
   "source": [
    "#### Контекстные слова ####"
   ]
  },
  {
   "cell_type": "code",
   "execution_count": 17,
   "metadata": {},
   "outputs": [],
   "source": [
    "with open('frequent_words.txt') as fl:\n",
    "    cont = fl.read()"
   ]
  },
  {
   "cell_type": "code",
   "execution_count": 18,
   "metadata": {},
   "outputs": [
    {
     "name": "stdout",
     "output_type": "stream",
     "text": [
      "['изменение', 'анализ', 'количество', 'концентрация', 'образец', 'объем', 'понятие', 'амплитуда', 'действие', 'использование', 'использовать', 'исследование', 'метод', 'под названием', 'называется', 'называют', 'например', 'развитие', 'разновидность', 'рост', 'система', 'содержание', 'содержать', 'стадия', 'структура', 'термин', 'увеличение', 'уменьшение', 'уровень', 'формирование', 'формировать', 'эффект', 'дефект']\n"
     ]
    }
   ],
   "source": [
    "context = cont.split('\\n')\n",
    "print(context)"
   ]
  },
  {
   "cell_type": "markdown",
   "metadata": {},
   "source": [
    "#### Кандидаты Rutermextractor ####"
   ]
  },
  {
   "cell_type": "code",
   "execution_count": 19,
   "metadata": {},
   "outputs": [],
   "source": [
    "def get_term_candidates(file_path):\n",
    "    \n",
    "    with open(file_path) as fl:\n",
    "        try:\n",
    "            text = fl.read()\n",
    "        except:\n",
    "            print (\"Error: \" + file_path )\n",
    "    \n",
    "    terms = []\n",
    "    term_extractor = TermExtractor()\n",
    "\n",
    "    for term in term_extractor(text):\n",
    "        terms.append(term.normalized)\n",
    "    return terms"
   ]
  },
  {
   "cell_type": "markdown",
   "metadata": {},
   "source": [
    "#### Предобработка #####"
   ]
  },
  {
   "cell_type": "code",
   "execution_count": 21,
   "metadata": {},
   "outputs": [],
   "source": [
    "def cand_preprocessing(list_of_candidates):\n",
    "    term_unigrams = []\n",
    "    term_bigrams = []\n",
    "    term_trigrams = []\n",
    "    term_multigrams = []\n",
    "\n",
    "    lem_unigrams = []\n",
    "    lem_bigrams = []\n",
    "    lem_trigrams = []\n",
    "    lem_multigrams = []\n",
    "\n",
    "    for term in list_of_candidates:\n",
    "        if len(term.split()) == 1:\n",
    "            term_unigrams.append(term.lower())\n",
    "            lem_unigrams.append(m.lemmatize(term))\n",
    "        elif len(term.split()) == 2:\n",
    "            term_bigrams.append(term.lower())\n",
    "            lem_bigrams.append(m.lemmatize(term))\n",
    "        elif len(term.split()) == 3:\n",
    "            term_trigrams.append(term.lower())\n",
    "            lem_trigrams.append(m.lemmatize(term))\n",
    "        else:\n",
    "            term_multigrams.append(term.lower())\n",
    "            lem_multigrams.append(m.lemmatize(term))\n",
    "\n",
    "    lem_uni = []\n",
    "\n",
    "    for u in lem_unigrams:\n",
    "        lem_uni.append(u[0])\n",
    "\n",
    "    lem_bi = []\n",
    "    for b in lem_bigrams:\n",
    "        lem_bi.append([b[0],b[2]])\n",
    "\n",
    "    lem_tri = []\n",
    "    for t in lem_trigrams:\n",
    "        lem_tri.append([t[0],t[2],t[4]])\n",
    "\n",
    "    lem_multi = []\n",
    "\n",
    "    for mul in lem_multigrams:\n",
    "        mul = [x for x in mul if x != ' ']\n",
    "        mul = mul[:-1]\n",
    "        lem_multi.append(mul)\n",
    "    return lem_uni, lem_bi, lem_tri, lem_multi"
   ]
  },
  {
   "cell_type": "markdown",
   "metadata": {},
   "source": [
    "#### Отсев кандидатов ####"
   ]
  },
  {
   "cell_type": "code",
   "execution_count": 22,
   "metadata": {},
   "outputs": [],
   "source": [
    "def freq_scores(list_of_terms):#проверяем частотность\n",
    "    scores = []\n",
    "    global lemmas\n",
    "    global dictionary\n",
    "    \n",
    "    for term in list_of_terms:\n",
    "        if term not in lemmas:\n",
    "            scores.append(1)\n",
    "        elif dictionary.get(term) < 40:\n",
    "            scores.append(1)\n",
    "        else:\n",
    "            scores.append(0)\n",
    "    return array(scores)"
   ]
  },
  {
   "cell_type": "code",
   "execution_count": 23,
   "metadata": {},
   "outputs": [],
   "source": [
    "def pref_scores(list_of_terms):#проверяем префиксы\n",
    "    scores1 = []\n",
    "    global pref2, pref3, pref4\n",
    "    \n",
    "    for term in list_of_terms:\n",
    "        if term[:-4] in pref4 == True:\n",
    "            scores1.append(1)\n",
    "        elif term[-3:] in pref3 == True:\n",
    "            scores1.append(1)\n",
    "        elif term[:-2] in pref2 == True:\n",
    "            scores1.append(1)\n",
    "        else:\n",
    "            scores1.append(0)\n",
    "    return array(scores1)"
   ]
  },
  {
   "cell_type": "code",
   "execution_count": 24,
   "metadata": {},
   "outputs": [],
   "source": [
    "def suf_scores(list_of_terms):#проверяем суффиксы\n",
    "    scores2 = []\n",
    "    global suf2\n",
    "    global suf3\n",
    "    global suf4\n",
    "    \n",
    "    for term in lem_uni:\n",
    "        t = stemmer.stem(term)\n",
    "        if t[:4] in suf4 == True:\n",
    "            scores2.append(1)\n",
    "        elif t[:3] in suf3 == True:\n",
    "            scores2.append(1)\n",
    "        elif t[:2] in suf2 == True:\n",
    "            scores2.append(1)\n",
    "        else:\n",
    "            scores2.append(0)\n",
    "    return array(scores2)"
   ]
  },
  {
   "cell_type": "code",
   "execution_count": 25,
   "metadata": {},
   "outputs": [],
   "source": [
    "def get_scores(list_of_terms):\n",
    "    score1 = freq_scores(list_of_terms)\n",
    "    score2 = suf_scores(list_of_terms)\n",
    "    score3 = pref_scores(list_of_terms)\n",
    "    \n",
    "    total = score1 + score2 + score3\n",
    "    cand_scores = dict(zip(list_of_terms, total))\n",
    "    \n",
    "    winners = []\n",
    "    for candidate in cand_scores:\n",
    "        if cand_scores.get(candidate) != 0:\n",
    "            winners.append(candidate)\n",
    "        else:\n",
    "            continue\n",
    "    \n",
    "    return cand_scores, winners"
   ]
  },
  {
   "cell_type": "markdown",
   "metadata": {},
   "source": [
    "# КОД #"
   ]
  },
  {
   "cell_type": "markdown",
   "metadata": {},
   "source": [
    "## Извлекаем термины ##"
   ]
  },
  {
   "cell_type": "code",
   "execution_count": 26,
   "metadata": {},
   "outputs": [],
   "source": [
    "from tqdm import tqdm"
   ]
  },
  {
   "cell_type": "code",
   "execution_count": 27,
   "metadata": {},
   "outputs": [
    {
     "name": "stderr",
     "output_type": "stream",
     "text": [
      "  0%|          | 0/30628 [00:00<?, ?it/s]/opt/conda/lib/python3.6/re.py:212: FutureWarning: split() requires a non-empty pattern match.\n",
      "  return _compile(pattern, flags).split(string, maxsplit)\n",
      "100%|██████████| 30628/30628 [2:06:18<00:00,  4.04it/s]  \n"
     ]
    }
   ],
   "source": [
    "results = []\n",
    "for path in tqdm(metadata['path']):\n",
    "    try:\n",
    "        candidates = get_term_candidates('./popular_science_texts_store/'+ path)\n",
    "        lem_uni, lem_bi, lem_tri, lem_multi = cand_preprocessing(candidates)\n",
    "        scores, winners = get_scores(lem_uni)\n",
    "        results.append(winners)\n",
    "    except:\n",
    "        results.append('No_file')\n",
    "        continue"
   ]
  },
  {
   "cell_type": "code",
   "execution_count": 208,
   "metadata": {},
   "outputs": [],
   "source": [
    " flat_results = [term for sublist in results for term in sublist]"
   ]
  },
  {
   "cell_type": "code",
   "execution_count": 209,
   "metadata": {},
   "outputs": [
    {
     "data": {
      "text/plain": [
       "901090"
      ]
     },
     "execution_count": 209,
     "metadata": {},
     "output_type": "execute_result"
    }
   ],
   "source": [
    "len(flat_results)"
   ]
  },
  {
   "cell_type": "markdown",
   "metadata": {},
   "source": [
    "# Постобработка"
   ]
  },
  {
   "cell_type": "markdown",
   "metadata": {},
   "source": [
    "### Снизили пороговый показатель частотности до 20"
   ]
  },
  {
   "cell_type": "code",
   "execution_count": 37,
   "metadata": {},
   "outputs": [],
   "source": [
    "further_results = []\n",
    "counter = []"
   ]
  },
  {
   "cell_type": "code",
   "execution_count": 39,
   "metadata": {},
   "outputs": [
    {
     "name": "stderr",
     "output_type": "stream",
     "text": [
      "100%|██████████| 30628/30628 [06:06<00:00, 83.68it/s]\n"
     ]
    }
   ],
   "source": [
    "for terms in tqdm(results):\n",
    "    for term in terms:\n",
    "        if term not in lemmas:\n",
    "            counter.append(term)\n",
    "        elif dictionary.get(term) < 20:\n",
    "            counter.append(term)\n",
    "        else:\n",
    "            continue\n",
    "            \n",
    "    further_results.append(counter)\n",
    "    counter = []"
   ]
  },
  {
   "cell_type": "markdown",
   "metadata": {},
   "source": [
    "### Убрали слова с латинскими символами##"
   ]
  },
  {
   "cell_type": "code",
   "execution_count": 60,
   "metadata": {},
   "outputs": [
    {
     "name": "stderr",
     "output_type": "stream",
     "text": [
      "100%|██████████| 30628/30628 [00:00<00:00, 53925.38it/s]\n"
     ]
    }
   ],
   "source": [
    "no_latin_terms = []\n",
    "r = re.compile(\"^[а-яА-Я]+$\")\n",
    "\n",
    "for terms in tqdm(further_results):\n",
    "    russian = [w for w in filter(r.match, terms) if w != 'No_file']\n",
    "    no_latin_terms.append(russian)\n",
    "    "
   ]
  },
  {
   "cell_type": "markdown",
   "metadata": {},
   "source": [
    "### Убираем имена собственные и географические названия"
   ]
  },
  {
   "cell_type": "code",
   "execution_count": 69,
   "metadata": {},
   "outputs": [],
   "source": [
    "raw_geo = pd.read_csv('geo_names.tsv', sep = '\\t')"
   ]
  },
  {
   "cell_type": "code",
   "execution_count": 67,
   "metadata": {},
   "outputs": [],
   "source": [
    "with open('ner_corpora_extracted.txt') as fl:\n",
    "    raw_ner = fl.read()"
   ]
  },
  {
   "cell_type": "code",
   "execution_count": 80,
   "metadata": {},
   "outputs": [],
   "source": [
    "geo = list(raw_geo['location'])"
   ]
  },
  {
   "cell_type": "code",
   "execution_count": 81,
   "metadata": {},
   "outputs": [],
   "source": [
    "geo = [term.split(' ') for term in geo if term.split(' ')]"
   ]
  },
  {
   "cell_type": "code",
   "execution_count": 82,
   "metadata": {},
   "outputs": [],
   "source": [
    "geo = [term.lower() for sublist in geo for term in sublist]"
   ]
  },
  {
   "cell_type": "code",
   "execution_count": 89,
   "metadata": {},
   "outputs": [],
   "source": [
    "ner = raw_ner.lower().split('\\n')"
   ]
  },
  {
   "cell_type": "code",
   "execution_count": 91,
   "metadata": {},
   "outputs": [],
   "source": [
    "ner = [name.split(' ') for name in ner if name.split(' ')]"
   ]
  },
  {
   "cell_type": "code",
   "execution_count": 92,
   "metadata": {},
   "outputs": [],
   "source": [
    "ner = [name for sublist in ner for name in sublist]"
   ]
  },
  {
   "cell_type": "code",
   "execution_count": 94,
   "metadata": {},
   "outputs": [],
   "source": [
    "stopwords = list(set(geo + ner))"
   ]
  },
  {
   "cell_type": "code",
   "execution_count": 96,
   "metadata": {},
   "outputs": [
    {
     "data": {
      "text/plain": [
       "18304"
      ]
     },
     "execution_count": 96,
     "metadata": {},
     "output_type": "execute_result"
    }
   ],
   "source": [
    "len(stopwords)"
   ]
  },
  {
   "cell_type": "code",
   "execution_count": 97,
   "metadata": {},
   "outputs": [],
   "source": [
    "no_stop_words = []\n",
    "\n",
    "for terms in no_latin_terms:\n",
    "    terms = [term for term in terms if term not in stopwords]\n",
    "    no_stop_words.append(terms)"
   ]
  },
  {
   "cell_type": "markdown",
   "metadata": {},
   "source": [
    "## Список частотности"
   ]
  },
  {
   "cell_type": "code",
   "execution_count": 105,
   "metadata": {},
   "outputs": [],
   "source": [
    "flat_list = [term for sublist in no_stop_words for term in sublist]"
   ]
  },
  {
   "cell_type": "code",
   "execution_count": 108,
   "metadata": {},
   "outputs": [
    {
     "name": "stdout",
     "output_type": "stream",
     "text": [
      "524501 vs 71691\n"
     ]
    }
   ],
   "source": [
    "print(len(flat_list), 'vs', len(set(flat_list)))"
   ]
  },
  {
   "cell_type": "code",
   "execution_count": null,
   "metadata": {},
   "outputs": [],
   "source": [
    "unique_terms = set(flat_list)"
   ]
  },
  {
   "cell_type": "code",
   "execution_count": 112,
   "metadata": {},
   "outputs": [],
   "source": [
    "counter = []"
   ]
  },
  {
   "cell_type": "code",
   "execution_count": null,
   "metadata": {},
   "outputs": [],
   "source": [
    "for term in tqdm(unique_terms):\n",
    "    counter.append(flat_list.count(term))"
   ]
  },
  {
   "cell_type": "code",
   "execution_count": 127,
   "metadata": {},
   "outputs": [],
   "source": [
    "freq_terms = list(zip(unique_terms, counter))"
   ]
  },
  {
   "cell_type": "code",
   "execution_count": 266,
   "metadata": {},
   "outputs": [],
   "source": [
    "freq_dict = dict(zip(unique_terms, counter))"
   ]
  },
  {
   "cell_type": "code",
   "execution_count": 128,
   "metadata": {},
   "outputs": [],
   "source": [
    "freq_terms.sort(key = lambda freq_terms: freq_terms[1], reverse=True)"
   ]
  },
  {
   "cell_type": "markdown",
   "metadata": {},
   "source": [
    "### Доплняем список стоп-слов"
   ]
  },
  {
   "cell_type": "code",
   "execution_count": 194,
   "metadata": {},
   "outputs": [],
   "source": [
    "new_stop_words2 = [\"озеры\", \"дискомфорт\", \"корн\", \"отступление\", \"титул\", \"укрытие\", \"валентин\", \"пароль\", \"алтай\", \"примечание\",\n",
    "                  \"приготовление\", \"непонимание\", \"обилие\", \"календарь\", \"отключение\", \"маяк\", \"графство\", \"подбор\", \"голландец\",\n",
    "                  \"филадельфия\", \"фила\", \"недовольство\", \"сброс\", \"корректировка\", \"завоевание\", \"предназначение\", \"полдень\", \"громкость\",\n",
    "                  \"а\", \"кура\", \"взлом\", \"консультант\", \"православие\", \"юнона\", \"мощь\", \"земель\", \"еписком\", \"ослабление\", \"отработка\",\n",
    "                  \"зав\", \"энцелаживать\", \"обоснование\", \"арсенал\", \"странность\", \"василиевич\", \"мерка\", \"вложение\", \"минобрнаука\", \"практик\",\n",
    "                  \"хроника\", \"подлодка\", \"приверженец\", \"улитка\", \"меньшинство\", \"франк\", \"паутика\", \"рождество\", \"подзарядка\", \"разведение\",\n",
    "                  \"виктория\", \"правота\", \"заповедник\", \"показ\", \"горожанин\", \"анатолиевич\", \"ангар\", \"турок\", \"прослушивание\", \"интернетома\",\n",
    "                  \"инициатор\", \"разочарование\", \"этика\", \"отвращение\", \"резюме\", \"запчасть\", \"усовершенствование\", \"рецензия\", \"аптека\", \"аэс\",\n",
    "                  \"пересмотр\", \"голубь\", \"возражение\", \"пригород\", \"марсианин\", \"копенгаген\", \"спасатель\", \"литр\", \"славянин\", \"снабжение\", \n",
    "                  \"затруднение\", \"фано\", \"адресат\", \"барабан\", \"разбор\", \"екатеринбург\", \"коняев\", \"средиземноморье\", \"превосходство\", \"шедевр\",\n",
    "                  \"чума\", \"табак\", \"поляк\", \"кончик\", \"вдохновение\", \"икра\", \"лесна\", \"многообразие\", \"камчатка\", \"репортаж\", \"перехват\", \n",
    "                  \"отсек\", \"обобщение\", \"триумф\", \"успешность\", \"мостик\", \"денис\", \"мюнхен\", \"пак\", \"посылка\", \"видеоигра\", \"концерн\", \"подписка\",\n",
    "                  \"христос\", \"проблематика\", \"дракон\", \"хитрость\", \"маневрирование\", \"землянин\", \"светов\", \"парковка\", \"извинение\", \"оптимист\",\n",
    "                  \"денге\", \"преувеличение\", \"купец\", \"лайнер\", \"снятие\", \"бодроствование\", \"викторович\", \"гусев\", \"роспись\", \"мультфильм\",\n",
    "                   \"митинг\", \"преследование\", \"термит\", \"кинематограф\", \"шоколад\", \"утка\", \"сеанс\", \"богиня\", \"запутанность\", \"меню\", \"нигерия\",\n",
    "                  \"лапка\", \"детище\", \"мигрант\", \"балканы\", \"оон\", \"дубна\", \"тег\", \"юриевич\", \"перебор\", \"кавычка\", \"активист\", \"полметра\", \"мак\",\n",
    "                  \"документакция\", \"иудей\", \"нетерпение\", \"заход\", \"тонкость\", \"бегство\", \"воск\", \"дозаправка\", \"кинотеатр\", \"стройка\", \"копирование\",\n",
    "                   \"злоупотребление\", \"попугай\", \"заселение\", \"ганимед\", \"пояснение\", \"релиз\", \"перекресток\", \"приток\", \"запястье\", \"мировоззрение\",\n",
    "                   \"кружок\", \"отслеживание\", \"пирог\", \"равенство\", \"курильщик\", \"утрата\", \"психиатр\", \"продовольствие\", \"свалка\", \"безумие\",\n",
    "                   \"подборка\", \"закупка\", \"отставание\", \"новизна\", \"преемник\", \"сова\", \"повествование\", \"растительность\", \"пиар\", \"иисус\", \"разгадка\",\n",
    "                   \"грамота\", \"спойлер\", \"переворот\", \"форд\", \"атлантика\", \"содействие\", \"вставка\", \"тележка\", \"глазго\", \"убежище\", \"сокровище\", \"курган\",\n",
    "                   \"задумка\", \"бренд\", \"маятник\", \"меуары\", \"географ\", \"эссе\", \"счетчик\", \"скачивание\", \"профсоюз\", \"принстон\", \"тренажер\", \"томск\",\n",
    "                   \"разногласие\", \"трон\", \"хлопок\", \"дирижабль\", \"вика\", \"трамп\", \"аудиозапись\", \"корзина\", \"браузер\", \"спонсор\", \"езда\", \"туловище\",\n",
    "                   \"каньон\", \"пиро\", \"женева\", \"джонатан\", \"гм\", \"фиан\", \"татарин\", \"кюри\", \"аналитика\", \"картофель\", \"прицел\",\n",
    "                   \"разворот\", \"раскрытие\", \"ощупь\", \"нло\", \"собиратель\", \"помидор\", \"банан\", \"корона\", \"дьявол\", \"ясность\", \"антарктика\",\n",
    "                   \"чечня\", \"горилла\", \"роскошь\", \"соперничество\", \"ранение\", \"коралл\", \"сажа\", \"стопа\", \"рычаг\", \"джунгли\", \"гуманитарий\",\n",
    "                   \"день\", \"различение\", \"соотечественник\", \"авторство\", \"резина\", \"розетка\", \"фигурка\", \"слуга\", \"дворянин\", \"лорд\", \"баллон\",\n",
    "                   \"замер\", \"мадрид\", \"безработица\", \"осмысление\", \"разброс\", \"основоположник\", \"цюрих\", \"патрулирование\", \"пробуждение\",\n",
    "                   \"подлинность\", \"совместительство\", \"пожелание\", \"лень\", \"противопоставление\", \"слепота\", \"егор\", \"глеб\", \"барэа\", \"фантаст\", \"зара\",\n",
    "                   \"фитнес\", \"перев\", \"восхищение\", \"неполадка\", \"подмосковье\", \"сенатор\", \"обход\", \"проживание\", \"коллекционер\", \"дубай\", \"получатель\",\n",
    "                   \"тошнота\", \"си\", \"ик\", \"киото\", \"верблюд\", \"аплодисменты\", \"виновник\", \"педаль\", \"супермаркет\", \"ожог\", \"синь\", \"мошенничество\",\n",
    "                   \"преобладание\", \"коммерсант\", \"ильич\", \"заготовка\", \"изгнание\", \"уведомление\", \"тигр\", \"самостоятельность\", \"украинец\", \"похолодание\",\n",
    "                   \"висок\", \"гребень\", \"небоскреб\", \"излечение\", \"нуждающийся\", \"получас\", \"галлия\", \"ранхгис\", \"хирургия\", \"сертификат\", \"мошенник\",\n",
    "                   \"самочувствие\", \"галина\", \"смелость\", \"смешение\", \"кореец\", \"вак\", \"запятая\", \"видеоматериал\", \"атланта\", \"зинина\", \"заправка\", \"бонус\",\n",
    "                   \"первоисточник\", \"единомышленник\", \"племянник\", \"борец\", \"проволока\", \"избавление\", \"кальмар\", \"приманка\", \"завещание\", \"шанхай\",\n",
    "                   \"трюк\", \"гроза\", \"неэффективность\", \"барселона\", \"комментатор\", \"классик\", \"верхушка\", \"клещ\", \"орангутан\", \"повтор\", \"шест\",\n",
    "                   \"первенство\", \"резка\", \"цк\", \"холл\", \"скульптор\", \"нпо\", \"седоля\", \"спячка\", \"росс\", \"гидра\", \"раскол\", \"пожертвование\",\n",
    "                   \"пропитание\", \"плавник\", \"стуккей\", \"пк\", \"рок\", \"велосипедист\", \"сидение\", \"хан\", \"бессоница\", \"павильон\", \"владимир\", 'наталия']"
   ]
  },
  {
   "cell_type": "code",
   "execution_count": 195,
   "metadata": {},
   "outputs": [],
   "source": [
    "new_stop_words = ['люба', 'новое', 'видео', 'простой', 'чаща', 'малый', 'москва', 'александр', 'находка', 'живой', 'деньга', 'ком','ноль'\n",
    "                 'ноль', 'чердак', 'счастие', 'старший', 'андрей', 'алексей', 'честь', \"джон\", \"русаков\", \"фото\", \"ссср\", \"костя\", \"белый\",\n",
    "                  \"дмитрий\", \"михаил\", \"крыса\", \"париж\", \"желающий\", \"евгений\", \"екатерина\", \"основатель\", \"ближний\", \"одноклассник\", \"доставка\",\n",
    "                  \"старое\", \"ося\", \"иван\", \"григорий\", \"крыть\", \"поль\", \"побережье\", \"чужой\", \"соавтор\", \"константин\", \"виктор\", \"ролик\", \"дронов\",\n",
    "                  \"просмотр\", \"англ\", \"видеозапись\", \"ивтушок\", \"разнообразие\", \"василий\", \"онлайн\", \"прорыв\", \"нагрев\", \"мертвый\", \"лектор\",\n",
    "                  \"правый\", \"полвека\", \"шарик\", \"анатолий\", \"мария\", \"обладатель\", \"мфть\", \"анна\", \"горячее\", \"муравей\", \"виталий\", \"марк\", \"золотой\",\n",
    "                  \"рис\", \"валерий\", \"файл\", \"опасение\", \"берлин\", \"рубрика\", \"боева\", \"леонид\", \"выпускник\", \"пчела\", \"чикаго\", \"должное\", \"елизавета\",\n",
    "                  \"елена\", \"кит\", \"кассинь\", \"елена\", \"также\", \"римляна\", \"окружающие\", \"сордержимое\", \"минус\", \"одиночка\", \"сюрприз\", \"генри\", \"орел\",\n",
    "                  \"долина\", \"лягушка\", \"иванович\", \"илья\", \"георгий\", \"максим\", \"тасс\", \"паук\", \"яд\", \"киев\", \"тупик\", \"отрывок\", \"видеоролиу\", \"заключать\",\n",
    "                  \"арктика\", \"сериал\", \"шлем\", \"овощ\", \"твиттер\", \"макака\", \"еникеев\", \"ящерица\", \"британец\", \"ферма\", \"стих\", \"возврат\", \"прозвище\", \"боев\",\n",
    "                  \"пионер\", \"курение\", \"игла\", \"колледж\", \"жук\", \"собрат\", \"табличка\", \"теплов\", \"черепаха\", \"антон\", \"закат\", \"песнь\", \"новинка\", \"новосибирск\",\n",
    "                  \"овца\", \"египтянин\", \"нии\", \"индеец\", \"кавказ\", \"мисис\", \"ниша\", \"мини\", \"сопоставление\", \"путешественник\", \"бостон\", \"сретенка\",\n",
    "                  \"видеокамера\", \"каталог\", \"пекин\", \"кирилл\", \"крым\", \"нобелевка\", \"розетт\", \"скидка\", \"дельфин\", \"лука\", \"энтузиазм\", \"вячеслав\",\n",
    "                  \"голуба\", \"акула\", \"олень\", \"пузырек\", \"отрыв\", \"рыбка\", \"владимирович\", \"шоу\", \"последователь\", \"плавание\", \"упор\", \"шерсть\", \"олень\",\n",
    "                  \"зик\", \"экскурсия\", \"гигант\", \"нехватка\", \"упаковка\", \"курсы\", \"кролик\", \"беспокойство\", \"выигрыш\", \"проводы\", \"неправда\", \"торонто\", \"комар\",\n",
    "                  \"ирина\", \"обман\", \"пентагон\", \"мед\", \"даниил\", \"поломка\", \"неспособность\", \"повторение\", \"звучение\", \"компромисс\", \"браслет\", \"полицейский\",\n",
    "                  \"преподавание\", \"вадим\", \"пушкин\", \"магия\", \"адам\", \"развлечение\", \"иерусалим\", \"медиа\", \"боб\", \"наработка\", \"специализация\", \"стокгольм\",\n",
    "                  \"фотограф\", \"прикосновение\", \"соседство\", \"вторник\", \"церн\", \"известность\", \"птенец\", \"скептик\", \"форт\", \"зоопарк\", \"галлия\", \"трос\",\n",
    "                  \"догадка\", \"крокодил\", \"бег\", \"сено\", \"чертеж\", \"новичок\", \"одобрение\", \"аудио\", \"дарья\", \"пешеход\", \"статуя\", \"ходьба\", \"тома\",\n",
    "                  \"викинг\", \"библия\", \"путаница\", \"казань\", \"лебедь\", \"ввс\", \"уникальность\", \"распространенность\", \"отзыв\", \"совершенство\", \"современность\",\n",
    "                  \"сенсация\", \"шторм\", \"мамонт\", \"клюв\", \"крушение\", \"колонка\", \"скандинавия\", \"открытость\", \"предисловие\", \"редактирование\", \"правильность\",\n",
    "                  \"коррекция\", \"размах\", \"угловой\", \"классика\", \"влага\", \"восстание\", \"неточность\", \"кукуруза\", \"несчастие\", \"механик\", \"богач\", \"подделка\",\n",
    "                  \"стереотип\", \"издатель\", \"орех\", \"скульптура\", \"изобилие\", \"залив\", \"тау\", \"д\", \"довод\", \"запоминание\", \"итальянец\", \"афины\",\n",
    "                  \"ю\", \"анонс\", \"загрузка\", \"ярка\", \"наводнение\", \"вредитель\", \"ровер\", \"копье\", \"петров\", \"широта\", \"кубик\", \"анкета\", \"шахматы\",\n",
    "                  \"подсказка\", \"ассистент\", \"предзаказ\", \"близнец\", \"материк\", \"стоянка\", \"всплеск\", \"испанец\", \"бобров\", \"жюри\", \"фотоаппарат\", \"узор\",\n",
    "                  \"стр\", \"даба\", \"дебаты\", \"ураган\", \"рф\", \"печь\", \"паника\", \"выключение\", \"исследовательница\", \"рекордсмен\", \"мусульманин\", \"линейка\",\n",
    "                  \"урал\", \"ислам\", \"торговец\", \"цунами\", \"весы\", \"договоренность\", \"губка\", \"пепел\", \"кон\", \"перчатка\", \"дтп\", \"полоска\", \"швед\", \"балл\",\n",
    "                  \"соавторство\", \"большуй\", \"лабиринт\", \"соблазн\", \"мадагаскар\", \"скобка\", \"выяснение\", \"заговор\", \"предание\", \"интуиция\", \"гусеница\",\n",
    "                  \"араб\", \"геннадий\", \"крах\", \"рабство\", \"равнина\", \"русло\", \"очаг\", \"наполеон\", \"работодатель\", \"бел\", \"аукцион\", \"люк\", \"боков\",\n",
    "                  \"стартапа\", \"шок\", \"тревожность\", \"пересчет\", \"обложка\", \"ес\", \"рой\", \"аллергия\", \"маркетинг\", \"перелом\", \"превышение\", \"сидней\",\n",
    "                  \"медуза\", \"недоверие\", \"волга\", \"прошествие\", \"пациентка\", \"пшеница\", \"экономия\", \"сыр\", \"упадок\", \"батарейка\", \"звездочка\", \"опросник\",\n",
    "                  \"нора\", \"опровержение\", \"ф\", \"стадо\", \"владислав\", \"клад\", \"противовес\", \"пыльца\", \"партнерство\", \"триллион\", \"краситель\", \"иоанн\", \n",
    "                  \"уха\", \"сверстник\", \"иосиф\", \"изгиб\", \"освещенность\", \"хакер\", \"чаша\", \"оговорка\", \"прививка\", \"пламень\", \"янтарь\", \"видимость\", \"бедность\",\n",
    "                  \"данио\", \"подражание\", \"архипелаг\", \"нежелание\", \"обыватель\", \"согласование\", \"коза\", \"присоединение\", \"борисович\", \"докладчик\",\n",
    "                  \"спбга\", \"привлекательность\", \"наглядность\", \"приставка\", \"отравление\", \"скачок\", \"закрытие\", \"бетон\", \"ухудщение\", \"срез\", \"расписание\",\n",
    "                  \"средневековье\", \"развертывание\", \"львов\", \"владиовсток\", \"амстердам\"]                  "
   ]
  },
  {
   "cell_type": "code",
   "execution_count": 196,
   "metadata": {},
   "outputs": [],
   "source": [
    "more_stop_words = new_stop_words + new_stop_words2"
   ]
  },
  {
   "cell_type": "code",
   "execution_count": 197,
   "metadata": {},
   "outputs": [
    {
     "data": {
      "text/plain": [
       "845"
      ]
     },
     "execution_count": 197,
     "metadata": {},
     "output_type": "execute_result"
    }
   ],
   "source": [
    "len(more_stop_words)"
   ]
  },
  {
   "cell_type": "markdown",
   "metadata": {},
   "source": [
    "### Еще раз отсеиваем кандидатов из дополненного списка стоп-слов"
   ]
  },
  {
   "cell_type": "code",
   "execution_count": 198,
   "metadata": {},
   "outputs": [],
   "source": [
    "more_clear = []"
   ]
  },
  {
   "cell_type": "code",
   "execution_count": null,
   "metadata": {
    "scrolled": true
   },
   "outputs": [],
   "source": [
    "for terms in tqdm(no_stop_words):\n",
    "    terms = [term for term in terms if term not in more_stop_words]\n",
    "    more_clear.append(terms)"
   ]
  },
  {
   "cell_type": "code",
   "execution_count": 212,
   "metadata": {},
   "outputs": [],
   "source": [
    "flat_more_clear = [term for sublist in more_clear for term in sublist]"
   ]
  },
  {
   "cell_type": "code",
   "execution_count": 260,
   "metadata": {},
   "outputs": [
    {
     "data": {
      "text/plain": [
       "list"
      ]
     },
     "execution_count": 260,
     "metadata": {},
     "output_type": "execute_result"
    }
   ],
   "source": [
    "type(more_clear[1])"
   ]
  },
  {
   "cell_type": "markdown",
   "metadata": {},
   "source": [
    "### Создаем ранжированный список частотности для полученных терминов, сохраняем полученные данные"
   ]
  },
  {
   "cell_type": "code",
   "execution_count": 215,
   "metadata": {},
   "outputs": [],
   "source": [
    "unique_more_clear = list(set(flat_more_clear))"
   ]
  },
  {
   "cell_type": "code",
   "execution_count": null,
   "metadata": {},
   "outputs": [],
   "source": [
    "u_counter = []\n",
    "\n",
    "for term in tqdm(unique_more_clear):\n",
    "    counter.append(flat_more_clear.count(term))"
   ]
  },
  {
   "cell_type": "code",
   "execution_count": 227,
   "metadata": {},
   "outputs": [],
   "source": [
    "freq_more_clear = list(zip(unique_more_clear, counter))"
   ]
  },
  {
   "cell_type": "code",
   "execution_count": 228,
   "metadata": {},
   "outputs": [],
   "source": [
    "freq_more_clear.sort(key = lambda freq_more_clear: freq_more_clear[1], reverse=True)"
   ]
  },
  {
   "cell_type": "code",
   "execution_count": 270,
   "metadata": {},
   "outputs": [],
   "source": [
    "total_freq = pd.DataFrame(freq_more_clear, columns = ['Term', 'Freq'])"
   ]
  },
  {
   "cell_type": "code",
   "execution_count": 274,
   "metadata": {},
   "outputs": [],
   "source": [
    "total_freq.to_csv('total_freq.tsv', sep = '\\t')"
   ]
  },
  {
   "cell_type": "code",
   "execution_count": 200,
   "metadata": {},
   "outputs": [],
   "source": [
    "term_dict = {'Terms': more_clear, 'Genre': list(metadata['genre']), 'Rubric': list(metadata['final_rubrics'])}"
   ]
  },
  {
   "cell_type": "code",
   "execution_count": 201,
   "metadata": {},
   "outputs": [],
   "source": [
    "term_df = pd.DataFrame(term_dict)"
   ]
  },
  {
   "cell_type": "code",
   "execution_count": 261,
   "metadata": {},
   "outputs": [
    {
     "data": {
      "text/html": [
       "<div>\n",
       "<style scoped>\n",
       "    .dataframe tbody tr th:only-of-type {\n",
       "        vertical-align: middle;\n",
       "    }\n",
       "\n",
       "    .dataframe tbody tr th {\n",
       "        vertical-align: top;\n",
       "    }\n",
       "\n",
       "    .dataframe thead th {\n",
       "        text-align: right;\n",
       "    }\n",
       "</style>\n",
       "<table border=\"1\" class=\"dataframe\">\n",
       "  <thead>\n",
       "    <tr style=\"text-align: right;\">\n",
       "      <th></th>\n",
       "      <th>Genre</th>\n",
       "      <th>Rubric</th>\n",
       "      <th>Terms</th>\n",
       "    </tr>\n",
       "  </thead>\n",
       "  <tbody>\n",
       "    <tr>\n",
       "      <th>0</th>\n",
       "      <td>Статьи</td>\n",
       "      <td>Науки о земле</td>\n",
       "      <td>[соленость, моно, фламинго, мышьяк, хиллиер, к...</td>\n",
       "    </tr>\n",
       "    <tr>\n",
       "      <th>1</th>\n",
       "      <td>Статьи</td>\n",
       "      <td>История</td>\n",
       "      <td>[телега, ямник, скелет, позвоночник, погребени...</td>\n",
       "    </tr>\n",
       "    <tr>\n",
       "      <th>2</th>\n",
       "      <td>Статьи</td>\n",
       "      <td>Физиология человека</td>\n",
       "      <td>[хромосома, деление, анеуплоидия, яйцеклетка, ...</td>\n",
       "    </tr>\n",
       "    <tr>\n",
       "      <th>3</th>\n",
       "      <td>Статьи</td>\n",
       "      <td>Физика</td>\n",
       "      <td>[достоверность, сигма, коллайдер, убежденность...</td>\n",
       "    </tr>\n",
       "    <tr>\n",
       "      <th>4</th>\n",
       "      <td>Статьи</td>\n",
       "      <td>Космос</td>\n",
       "      <td>[хондрит, пришелец, ахондрит]</td>\n",
       "    </tr>\n",
       "  </tbody>\n",
       "</table>\n",
       "</div>"
      ],
      "text/plain": [
       "    Genre               Rubric  \\\n",
       "0  Статьи        Науки о земле   \n",
       "1  Статьи              История   \n",
       "2  Статьи  Физиология человека   \n",
       "3  Статьи               Физика   \n",
       "4  Статьи               Космос   \n",
       "\n",
       "                                               Terms  \n",
       "0  [соленость, моно, фламинго, мышьяк, хиллиер, к...  \n",
       "1  [телега, ямник, скелет, позвоночник, погребени...  \n",
       "2  [хромосома, деление, анеуплоидия, яйцеклетка, ...  \n",
       "3  [достоверность, сигма, коллайдер, убежденность...  \n",
       "4                      [хондрит, пришелец, ахондрит]  "
      ]
     },
     "execution_count": 261,
     "metadata": {},
     "output_type": "execute_result"
    }
   ],
   "source": [
    "term_df.head()"
   ]
  },
  {
   "cell_type": "code",
   "execution_count": 203,
   "metadata": {},
   "outputs": [],
   "source": [
    "term_df.to_csv('terms_rubrics_nostopwords.csv', sep = '\\t')"
   ]
  },
  {
   "cell_type": "code",
   "execution_count": null,
   "metadata": {},
   "outputs": [],
   "source": []
  }
 ],
 "metadata": {
  "kernelspec": {
   "display_name": "Python 3",
   "language": "python",
   "name": "python3"
  },
  "language_info": {
   "codemirror_mode": {
    "name": "ipython",
    "version": 3
   },
   "file_extension": ".py",
   "mimetype": "text/x-python",
   "name": "python",
   "nbconvert_exporter": "python",
   "pygments_lexer": "ipython3",
   "version": "3.6.3"
  }
 },
 "nbformat": 4,
 "nbformat_minor": 2
}
