{
 "cells": [
  {
   "cell_type": "code",
   "execution_count": 2,
   "metadata": {},
   "outputs": [],
   "source": [
    "import pandas as pd\n",
    "import re\n",
    "import os"
   ]
  },
  {
   "cell_type": "code",
   "execution_count": 3,
   "metadata": {},
   "outputs": [],
   "source": [
    "data = pd.read_csv('terms_rubrics_nostopwords.csv', sep = '\\t')"
   ]
  },
  {
   "cell_type": "code",
   "execution_count": 4,
   "metadata": {},
   "outputs": [
    {
     "data": {
      "text/html": [
       "<div>\n",
       "<style scoped>\n",
       "    .dataframe tbody tr th:only-of-type {\n",
       "        vertical-align: middle;\n",
       "    }\n",
       "\n",
       "    .dataframe tbody tr th {\n",
       "        vertical-align: top;\n",
       "    }\n",
       "\n",
       "    .dataframe thead th {\n",
       "        text-align: right;\n",
       "    }\n",
       "</style>\n",
       "<table border=\"1\" class=\"dataframe\">\n",
       "  <thead>\n",
       "    <tr style=\"text-align: right;\">\n",
       "      <th></th>\n",
       "      <th>Unnamed: 0</th>\n",
       "      <th>Genre</th>\n",
       "      <th>Rubric</th>\n",
       "      <th>Terms</th>\n",
       "    </tr>\n",
       "  </thead>\n",
       "  <tbody>\n",
       "    <tr>\n",
       "      <th>0</th>\n",
       "      <td>0</td>\n",
       "      <td>Статьи</td>\n",
       "      <td>Науки о земле</td>\n",
       "      <td>['соленость', 'моно', 'фламинго', 'мышьяк', 'х...</td>\n",
       "    </tr>\n",
       "    <tr>\n",
       "      <th>1</th>\n",
       "      <td>1</td>\n",
       "      <td>Статьи</td>\n",
       "      <td>История</td>\n",
       "      <td>['телега', 'ямник', 'скелет', 'позвоночник', '...</td>\n",
       "    </tr>\n",
       "    <tr>\n",
       "      <th>2</th>\n",
       "      <td>2</td>\n",
       "      <td>Статьи</td>\n",
       "      <td>Физиология человека</td>\n",
       "      <td>['хромосома', 'деление', 'анеуплоидия', 'яйцек...</td>\n",
       "    </tr>\n",
       "    <tr>\n",
       "      <th>3</th>\n",
       "      <td>3</td>\n",
       "      <td>Статьи</td>\n",
       "      <td>Физика</td>\n",
       "      <td>['достоверность', 'сигма', 'коллайдер', 'убежд...</td>\n",
       "    </tr>\n",
       "    <tr>\n",
       "      <th>4</th>\n",
       "      <td>4</td>\n",
       "      <td>Статьи</td>\n",
       "      <td>Космос</td>\n",
       "      <td>['хондрит', 'пришелец', 'ахондрит']</td>\n",
       "    </tr>\n",
       "  </tbody>\n",
       "</table>\n",
       "</div>"
      ],
      "text/plain": [
       "   Unnamed: 0   Genre               Rubric  \\\n",
       "0           0  Статьи        Науки о земле   \n",
       "1           1  Статьи              История   \n",
       "2           2  Статьи  Физиология человека   \n",
       "3           3  Статьи               Физика   \n",
       "4           4  Статьи               Космос   \n",
       "\n",
       "                                               Terms  \n",
       "0  ['соленость', 'моно', 'фламинго', 'мышьяк', 'х...  \n",
       "1  ['телега', 'ямник', 'скелет', 'позвоночник', '...  \n",
       "2  ['хромосома', 'деление', 'анеуплоидия', 'яйцек...  \n",
       "3  ['достоверность', 'сигма', 'коллайдер', 'убежд...  \n",
       "4                ['хондрит', 'пришелец', 'ахондрит']  "
      ]
     },
     "execution_count": 4,
     "metadata": {},
     "output_type": "execute_result"
    }
   ],
   "source": [
    "data.head()"
   ]
  },
  {
   "cell_type": "code",
   "execution_count": 5,
   "metadata": {},
   "outputs": [],
   "source": [
    "terms = []\n",
    "\n",
    "reg_term = re.compile(r'[а-я]+')\n",
    "\n",
    "for term_str in data['Terms']:\n",
    "    terms.append(reg_term.findall(term_str))"
   ]
  },
  {
   "cell_type": "code",
   "execution_count": 6,
   "metadata": {},
   "outputs": [],
   "source": [
    "total_terms = [term for sublist in terms for term in sublist if len(term) > 2]"
   ]
  },
  {
   "cell_type": "code",
   "execution_count": 7,
   "metadata": {},
   "outputs": [],
   "source": [
    "unique_terms = list(set(total_terms) - set(['поливать']))"
   ]
  },
  {
   "cell_type": "code",
   "execution_count": 8,
   "metadata": {},
   "outputs": [
    {
     "name": "stdout",
     "output_type": "stream",
     "text": [
      "427111 vs 70693\n"
     ]
    }
   ],
   "source": [
    "print(len(total_terms), 'vs', len(unique_terms))"
   ]
  },
  {
   "cell_type": "code",
   "execution_count": 9,
   "metadata": {},
   "outputs": [
    {
     "data": {
      "application/vnd.jupyter.widget-view+json": {
       "model_id": "ded2b9af1a414a70bd54d0365fa4db2f",
       "version_major": 2,
       "version_minor": 0
      },
      "text/plain": [
       "HBox(children=(IntProgress(value=0, max=70693), HTML(value='')))"
      ]
     },
     "metadata": {},
     "output_type": "display_data"
    },
    {
     "name": "stdout",
     "output_type": "stream",
     "text": [
      "\n"
     ]
    }
   ],
   "source": [
    "from tqdm import tqdm_notebook\n",
    "\n",
    "freq_count = []\n",
    "\n",
    "for term in tqdm_notebook(unique_terms):\n",
    "    freq_count.append(total_terms.count(term))"
   ]
  },
  {
   "cell_type": "code",
   "execution_count": 10,
   "metadata": {},
   "outputs": [],
   "source": [
    "term_freq_dict = dict(zip(unique_terms, freq_count))"
   ]
  },
  {
   "cell_type": "code",
   "execution_count": 11,
   "metadata": {},
   "outputs": [],
   "source": [
    "term_freq_list = list(zip(unique_terms, freq_count))\n",
    "term_freq_list.sort(key = lambda term_freq_list: term_freq_list[1], reverse=True)"
   ]
  },
  {
   "cell_type": "code",
   "execution_count": 12,
   "metadata": {},
   "outputs": [],
   "source": [
    "term_freq_df = pd.DataFrame(term_freq_list, columns = ['Term', 'Freq'])"
   ]
  },
  {
   "cell_type": "code",
   "execution_count": 13,
   "metadata": {},
   "outputs": [
    {
     "data": {
      "text/html": [
       "<div>\n",
       "<style scoped>\n",
       "    .dataframe tbody tr th:only-of-type {\n",
       "        vertical-align: middle;\n",
       "    }\n",
       "\n",
       "    .dataframe tbody tr th {\n",
       "        vertical-align: top;\n",
       "    }\n",
       "\n",
       "    .dataframe thead th {\n",
       "        text-align: right;\n",
       "    }\n",
       "</style>\n",
       "<table border=\"1\" class=\"dataframe\">\n",
       "  <thead>\n",
       "    <tr style=\"text-align: right;\">\n",
       "      <th></th>\n",
       "      <th>Term</th>\n",
       "      <th>Freq</th>\n",
       "    </tr>\n",
       "  </thead>\n",
       "  <tbody>\n",
       "    <tr>\n",
       "      <th>0</th>\n",
       "      <td>разработчик</td>\n",
       "      <td>1612</td>\n",
       "    </tr>\n",
       "    <tr>\n",
       "      <th>1</th>\n",
       "      <td>гипотеза</td>\n",
       "      <td>1435</td>\n",
       "    </tr>\n",
       "    <tr>\n",
       "      <th>2</th>\n",
       "      <td>орбита</td>\n",
       "      <td>1387</td>\n",
       "    </tr>\n",
       "    <tr>\n",
       "      <th>3</th>\n",
       "      <td>астроном</td>\n",
       "      <td>1231</td>\n",
       "    </tr>\n",
       "    <tr>\n",
       "      <th>4</th>\n",
       "      <td>археолог</td>\n",
       "      <td>1078</td>\n",
       "    </tr>\n",
       "  </tbody>\n",
       "</table>\n",
       "</div>"
      ],
      "text/plain": [
       "          Term  Freq\n",
       "0  разработчик  1612\n",
       "1     гипотеза  1435\n",
       "2       орбита  1387\n",
       "3     астроном  1231\n",
       "4     археолог  1078"
      ]
     },
     "execution_count": 13,
     "metadata": {},
     "output_type": "execute_result"
    }
   ],
   "source": [
    "term_freq_df.head()"
   ]
  },
  {
   "cell_type": "code",
   "execution_count": 14,
   "metadata": {},
   "outputs": [],
   "source": [
    "term_freq_df.to_csv('term_freq_sorted.tsv', sep = '\\t')"
   ]
  },
  {
   "cell_type": "code",
   "execution_count": 15,
   "metadata": {},
   "outputs": [],
   "source": [
    "top_20 = []\n",
    "files_list = []\n",
    "start_path = './terms_ranged/'\n",
    "\n",
    "for path, dirs, files in os.walk(start_path):\n",
    "    files_list = files\n",
    "    "
   ]
  },
  {
   "cell_type": "code",
   "execution_count": 16,
   "metadata": {},
   "outputs": [
    {
     "name": "stdout",
     "output_type": "stream",
     "text": [
      "Математика.csv\n",
      "Computer_science.csv\n",
      "История.csv\n",
      "Язык.csv\n",
      "Культурология.csv\n",
      "Биология.csv\n",
      "Экономика.csv\n",
      "Политология.csv\n",
      "Физика.csv\n",
      "Психология.csv\n",
      "Науки о земле.csv\n",
      "Технологии.csv\n",
      "Философия.csv\n",
      "Футурология.csv\n",
      "Физиология_человека.csv\n",
      "Химия.csv\n",
      "Мусор.csv\n",
      "Космос.csv\n",
      "Социология.csv\n"
     ]
    }
   ],
   "source": [
    "for fname in files_list:\n",
    "    print(fname)\n",
    "    term_df = pd.read_csv('./terms_ranged/'+fname, sep = '\\t')\n",
    "    top_20.append(list(term_df['Term'])[:20])"
   ]
  },
  {
   "cell_type": "code",
   "execution_count": 17,
   "metadata": {},
   "outputs": [],
   "source": [
    "top_20 = [term for sublist in top_20 for term in sublist]"
   ]
  },
  {
   "cell_type": "code",
   "execution_count": 18,
   "metadata": {},
   "outputs": [
    {
     "data": {
      "text/plain": [
       "250"
      ]
     },
     "execution_count": 18,
     "metadata": {},
     "output_type": "execute_result"
    }
   ],
   "source": [
    "len(set(top_20))"
   ]
  },
  {
   "cell_type": "code",
   "execution_count": 19,
   "metadata": {},
   "outputs": [],
   "source": [
    "unique_top20 = list(set(top_20))"
   ]
  },
  {
   "cell_type": "code",
   "execution_count": 20,
   "metadata": {},
   "outputs": [
    {
     "name": "stdout",
     "output_type": "stream",
     "text": [
      "['фантастика', 'икосаэдр', 'куновскать', 'белка', 'представленность', 'гормон', 'телескоп', 'астроном', 'европеец', 'патент', 'испытуемый', 'нейтрон', 'вычисление', 'личинка', 'геометрия', 'либерал', 'эколог', 'электрон', 'орбита', 'диагональ', 'аннотация', 'рецессия', 'корреляция', 'программирование', 'аккумулятор', 'азот', 'нейрон', 'квадрокоптер', 'бактерия', 'лакец', 'обозначение', 'изобретатель', 'астероид', 'демократ', 'антрополог', 'кривой', 'археолог', 'аутизм', 'траектория', 'коммуникация', 'ипотека', 'лингвистика', 'инфляция', 'ион', 'электрод', 'выброс', 'распознавание', 'скелет', 'согласный', 'альтернатива', 'импульс', 'фермент', 'электромотор', 'особь', 'истребитель', 'произношение', 'климатолог', 'вулкан', 'аналогия', 'инсульт', 'спад', 'неандерталец', 'викторовна', 'электромобиль', 'филолог', 'вакцина', 'марс', 'уловимый', 'рим', 'плацебо', 'прочность', 'ноль', 'информатика', 'треугольник', 'популяция', 'сбережение', 'фотон', 'интерпретация', 'нейтрино', 'случайность', 'предпосылка', 'ростовщичество', 'плутон', 'консенсус', 'мотивация', 'трансформация', 'клэй', 'прима', 'минерал', 'максимум', 'карьер', 'леса', 'предпочтение', 'хищник', 'распад', 'инновация', 'плазма', 'землетрясение', 'медик', 'нормандец', 'сми', 'кремль', 'печень', 'украшение', 'юпитер', 'графный', 'нас', 'насекомое', 'теорема', 'бак', 'издержка', 'грамматика', 'причинность', 'пузырь', 'классификация', 'мутация', 'глагол', 'детектор', 'заимствование', 'письменность', 'датчик', 'выборка', 'извержение', 'останки', 'пожилой', 'диалект', 'глобализация', 'опухоль', 'зонд', 'засуха', 'симптом', 'размножение', 'динозавр', 'обнаружение', 'сервис', 'нагревание', 'взлет', 'респондент', 'потомство', 'ударение', 'палеонтолог', 'иллюстрация', 'лингвист', 'днк', 'кристалл', 'калий', 'ввп', 'звучание', 'тысячелетие', 'наночастица', 'политолог', 'противостояние', 'генетик', 'артефакт', 'перераспределение', 'криптография', 'мор', 'творец', 'рассылка', 'облигация', 'потепление', 'древность', 'биология', 'социология', 'радиус', 'родство', 'лазер', 'смартфон', 'фмрт', 'стимул', 'монета', 'поселение', 'ледник', 'аннетта', 'запуск', 'излучение', 'водород', 'галактика', 'протон', 'кремний', 'биолог', 'захоронение', 'мкс', 'модуль', 'синтаксис', 'катализатор', 'импорт', 'правитель', 'окружность', 'толщина', 'программист', 'шкала', 'перемещение', 'суша', 'комета', 'код', 'раскопка', 'социолог', 'прежда', 'химик', 'существительное', 'геолог', 'доброволец', 'квадрат', 'соцсеть', 'склонность', 'комбинация', 'тренд', 'стресс', 'прощение', 'диагноз', 'идентичность', 'лексика', 'геофизик', 'дальность', 'гравитация', 'диктатура', 'экономист', 'упоминание', 'воз', 'стихия', 'александрович', 'геном', 'формулировка', 'гипотеза', 'разработчик', 'обезьяна', 'экспериментатор', 'углерод', 'гробница', 'кварк', 'грамматик', 'рецептор', 'вакуум', 'математик', 'употребление', 'аналог', 'частотность', 'астронавт', 'левада', 'заряд', 'робот', 'космонавт', 'авторитаризм', 'бесконечность', 'депрессия', 'погребение', 'прототип', 'реж', 'млекопитающее']\n"
     ]
    }
   ],
   "source": [
    "print(unique_top20)"
   ]
  },
  {
   "cell_type": "code",
   "execution_count": 21,
   "metadata": {},
   "outputs": [],
   "source": [
    "counter = []\n",
    "\n",
    "for term in unique_top20:\n",
    "    counter.append((term, term_freq_dict.get(term)))\n",
    "\n",
    "counter.sort(key = lambda term_freq_list: term_freq_list[1], reverse=True)"
   ]
  },
  {
   "cell_type": "code",
   "execution_count": 24,
   "metadata": {},
   "outputs": [
    {
     "name": "stdout",
     "output_type": "stream",
     "text": [
      "[('разработчик', 1612), ('гипотеза', 1435), ('орбита', 1387), ('астроном', 1231), ('археолог', 1078), ('робот', 1057), ('соцсеть', 1001), ('марс', 986), ('запуск', 960), ('бактерия', 892), ('днк', 884), ('биолог', 863), ('электрон', 826), ('ноль', 799), ('толщина', 675), ('телескоп', 674), ('обнаружение', 671), ('излучение', 664), ('иллюстрация', 614), ('прототип', 613), ('галактика', 610), ('насекомое', 608), ('смартфон', 603), ('нейрон', 573), ('останки', 571), ('мкс', 562), ('биология', 549), ('раскопка', 527), ('мутация', 514), ('водород', 508), ('фотон', 503), ('химик', 497), ('аналог', 482), ('белка', 475), ('датчик', 463), ('протон', 445), ('зонд', 440), ('лазер', 440), ('реж', 440), ('популяция', 436), ('гравитация', 433), ('мор', 432), ('радиус', 428), ('фермент', 419), ('юпитер', 415), ('хищник', 412), ('сми', 407), ('аналогия', 406), ('генетик', 402), ('максимум', 399), ('астероид', 396), ('прима', 395), ('математик', 391), ('модуль', 389), ('обезьяна', 385), ('млекопитающее', 383), ('импульс', 372), ('комета', 364), ('перемещение', 361), ('суша', 358), ('доброволец', 355), ('потомство', 353), ('космонавт', 353), ('медик', 352), ('вакуум', 352), ('палеонтолог', 349), ('детектор', 339), ('испытуемый', 337), ('траектория', 325), ('плутон', 324), ('кристалл', 323), ('электрод', 319), ('скелет', 319), ('дальность', 318), ('экспериментатор', 304), ('вычисление', 301), ('особь', 300), ('древность', 300), ('аккумулятор', 299), ('углерод', 298), ('азот', 297), ('комбинация', 296), ('патент', 294), ('печень', 293), ('ион', 288), ('выброс', 288), ('распад', 283), ('изобретатель', 281), ('взлет', 281), ('нейтрон', 271), ('рецептор', 270), ('заряд', 264), ('поселение', 256), ('бак', 254), ('социолог', 254), ('сервис', 253), ('программист', 252), ('захоронение', 251), ('антрополог', 249), ('размножение', 248)]\n"
     ]
    }
   ],
   "source": [
    "print(counter[:100])"
   ]
  },
  {
   "cell_type": "code",
   "execution_count": 94,
   "metadata": {},
   "outputs": [
    {
     "data": {
      "text/plain": [
       "380"
      ]
     },
     "execution_count": 94,
     "metadata": {},
     "output_type": "execute_result"
    }
   ],
   "source": [
    "20*19"
   ]
  },
  {
   "cell_type": "code",
   "execution_count": 31,
   "metadata": {},
   "outputs": [],
   "source": [
    "rubrics_top = [term[0] for term in counter[:100]]"
   ]
  },
  {
   "cell_type": "code",
   "execution_count": 33,
   "metadata": {},
   "outputs": [
    {
     "name": "stdout",
     "output_type": "stream",
     "text": [
      "['разработчик', 'гипотеза', 'орбита', 'астроном', 'археолог', 'робот', 'соцсеть', 'марс', 'запуск', 'бактерия', 'днк', 'биолог', 'электрон', 'ноль', 'толщина', 'телескоп', 'обнаружение', 'излучение', 'иллюстрация', 'прототип', 'галактика', 'насекомое', 'смартфон', 'нейрон', 'останки', 'мкс', 'биология', 'раскопка', 'мутация', 'водород', 'фотон', 'химик', 'аналог', 'белка', 'датчик', 'протон', 'зонд', 'лазер', 'реж', 'популяция', 'гравитация', 'мор', 'радиус', 'фермент', 'юпитер', 'хищник', 'сми', 'аналогия', 'генетик', 'максимум', 'астероид', 'прима', 'математик', 'модуль', 'обезьяна', 'млекопитающее', 'импульс', 'комета', 'перемещение', 'суша', 'доброволец', 'потомство', 'космонавт', 'медик', 'вакуум', 'палеонтолог', 'детектор', 'испытуемый', 'траектория', 'плутон', 'кристалл', 'электрод', 'скелет', 'дальность', 'экспериментатор', 'вычисление', 'особь', 'древность', 'аккумулятор', 'углерод', 'азот', 'комбинация', 'патент', 'печень', 'ион', 'выброс', 'распад', 'изобретатель', 'взлет', 'нейтрон', 'рецептор', 'заряд', 'поселение', 'бак', 'социолог', 'сервис', 'программист', 'захоронение', 'антрополог', 'размножение']\n"
     ]
    }
   ],
   "source": [
    "print(rubrics_top)"
   ]
  },
  {
   "cell_type": "code",
   "execution_count": 95,
   "metadata": {},
   "outputs": [
    {
     "data": {
      "text/plain": [
       "70693"
      ]
     },
     "execution_count": 95,
     "metadata": {},
     "output_type": "execute_result"
    }
   ],
   "source": [
    "len(counter)"
   ]
  },
  {
   "cell_type": "code",
   "execution_count": 1,
   "metadata": {},
   "outputs": [
    {
     "ename": "NameError",
     "evalue": "name 'counter' is not defined",
     "output_type": "error",
     "traceback": [
      "\u001b[0;31m---------------------------------------------------------------------------\u001b[0m",
      "\u001b[0;31mNameError\u001b[0m                                 Traceback (most recent call last)",
      "\u001b[0;32m<ipython-input-1-7187e530eda2>\u001b[0m in \u001b[0;36m<module>\u001b[0;34m()\u001b[0m\n\u001b[0;32m----> 1\u001b[0;31m \u001b[0mcounter\u001b[0m\u001b[0;34m[\u001b[0m\u001b[0;34m-\u001b[0m\u001b[0;36m30\u001b[0m\u001b[0;34m:\u001b[0m\u001b[0;34m]\u001b[0m\u001b[0;34m\u001b[0m\u001b[0m\n\u001b[0m",
      "\u001b[0;31mNameError\u001b[0m: name 'counter' is not defined"
     ]
    }
   ],
   "source": [
    "counter[-30:]"
   ]
  },
  {
   "cell_type": "code",
   "execution_count": null,
   "metadata": {},
   "outputs": [],
   "source": []
  }
 ],
 "metadata": {
  "kernelspec": {
   "display_name": "Python 3",
   "language": "python",
   "name": "python3"
  },
  "language_info": {
   "codemirror_mode": {
    "name": "ipython",
    "version": 3
   },
   "file_extension": ".py",
   "mimetype": "text/x-python",
   "name": "python",
   "nbconvert_exporter": "python",
   "pygments_lexer": "ipython3",
   "version": "3.6.3"
  }
 },
 "nbformat": 4,
 "nbformat_minor": 2
}
