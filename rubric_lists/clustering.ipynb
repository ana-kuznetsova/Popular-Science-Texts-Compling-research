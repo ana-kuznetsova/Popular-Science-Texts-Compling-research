{
 "cells": [
  {
   "cell_type": "markdown",
   "metadata": {},
   "source": [
    "## Clustering"
   ]
  },
  {
   "cell_type": "code",
   "execution_count": 1,
   "metadata": {},
   "outputs": [],
   "source": [
    "import pandas as pd\n",
    "import re\n",
    "#from nltk.corpus import stopwords\n",
    "import sklearn\n",
    "#from sklearn.pipeline import Pipeline\n",
    "\n",
    "#stopwords_rus = stopwords.words('russian')\n",
    "from stop_words import get_stop_words\n",
    "stopwords = get_stop_words('russian')\n",
    "import numpy as np"
   ]
  },
  {
   "cell_type": "code",
   "execution_count": 2,
   "metadata": {},
   "outputs": [],
   "source": [
    "from tqdm import tqdm"
   ]
  },
  {
   "cell_type": "code",
   "execution_count": 3,
   "metadata": {},
   "outputs": [],
   "source": [
    "from sklearn.metrics import classification_report, confusion_matrix\n",
    "import seaborn as sns\n",
    "import matplotlib.pyplot as plt"
   ]
  },
  {
   "cell_type": "markdown",
   "metadata": {},
   "source": [
    "### Articles data"
   ]
  },
  {
   "cell_type": "code",
   "execution_count": 4,
   "metadata": {},
   "outputs": [],
   "source": [
    "articles_df = pd.read_csv('articles_lemm_meta.tsv', sep = '\\t', encoding = 'utf-8')"
   ]
  },
  {
   "cell_type": "code",
   "execution_count": 6,
   "metadata": {},
   "outputs": [
    {
     "data": {
      "text/plain": [
       "19"
      ]
     },
     "execution_count": 6,
     "metadata": {},
     "output_type": "execute_result"
    }
   ],
   "source": [
    "len(set(articles_df.final_rubrics))"
   ]
  },
  {
   "cell_type": "code",
   "execution_count": 5,
   "metadata": {},
   "outputs": [
    {
     "data": {
      "text/plain": [
       "(24611, 13)"
      ]
     },
     "execution_count": 5,
     "metadata": {},
     "output_type": "execute_result"
    }
   ],
   "source": [
    "articles_good_rubrics = articles_df[articles_df.final_rubrics != 'Мусор']\n",
    "articles_good_rubrics = articles_good_rubrics.reset_index(drop = True)\n",
    "articles_good_rubrics.shape"
   ]
  },
  {
   "cell_type": "code",
   "execution_count": 18,
   "metadata": {},
   "outputs": [
    {
     "data": {
      "text/plain": [
       "18"
      ]
     },
     "execution_count": 18,
     "metadata": {},
     "output_type": "execute_result"
    }
   ],
   "source": [
    "len(set(articles_good_rubrics.final_rubrics))"
   ]
  },
  {
   "cell_type": "code",
   "execution_count": 6,
   "metadata": {},
   "outputs": [],
   "source": [
    "from sklearn.decomposition import TruncatedSVD\n",
    "from sklearn.feature_extraction.text import *\n",
    "from sklearn.pipeline import *\n",
    "from sklearn.preprocessing import Normalizer\n",
    "from sklearn.metrics import *\n",
    "from sklearn.cluster import *\n",
    "import numpy as np"
   ]
  },
  {
   "cell_type": "code",
   "execution_count": 7,
   "metadata": {},
   "outputs": [],
   "source": [
    "tfidf_vect = TfidfVectorizer(min_df = 2, stop_words = stopwords, max_features = 75000)#top 70% tfidf of vocabulary \n",
    "tfidf_vectorized = tfidf_vect.fit_transform(articles_good_rubrics.text)"
   ]
  },
  {
   "cell_type": "markdown",
   "metadata": {},
   "source": [
    "## K-means"
   ]
  },
  {
   "cell_type": "code",
   "execution_count": 24,
   "metadata": {},
   "outputs": [
    {
     "data": {
      "text/plain": [
       "Pipeline(memory=None,\n",
       "     steps=[('svd', TruncatedSVD(algorithm='randomized', n_components=3000, n_iter=5,\n",
       "       random_state=None, tol=0.0)), ('clust', KMeans(algorithm='auto', copy_x=True, init='k-means++', max_iter=300,\n",
       "    n_clusters=18, n_init=10, n_jobs=1, precompute_distances='auto',\n",
       "    random_state=42, tol=0.0001, verbose=0))])"
      ]
     },
     "execution_count": 24,
     "metadata": {},
     "output_type": "execute_result"
    }
   ],
   "source": [
    "pipeline = Pipeline([\n",
    "    #('vect', CountVectorizer(min_df = 2, stop_words = stopwords, max_features = 75000)),\n",
    "    #('tfidf', TfidfTransformer()),\n",
    "    ('svd', TruncatedSVD(n_components = 3000)),\n",
    "    #('norm', Normalizer() ),\n",
    "    ('clust', KMeans(n_clusters = 18, random_state = 42))\n",
    "])\n",
    "\n",
    "\n",
    "pipeline.fit(tfidf_vectorized)"
   ]
  },
  {
   "cell_type": "code",
   "execution_count": 25,
   "metadata": {},
   "outputs": [
    {
     "name": "stdout",
     "output_type": "stream",
     "text": [
      "Homogeneity: 0.4077883764744641\n",
      "Completeness: 0.395675549264585\n",
      "V-measure 0.4016406578474096\n",
      "Adjusted Rand-Index: 0.21652216895577167\n"
     ]
    }
   ],
   "source": [
    "clust_labels = pipeline.named_steps['clust'].labels_\n",
    "labels = articles_good_rubrics.final_rubrics\n",
    "\n",
    "print(\"Homogeneity:\", homogeneity_score(labels, clust_labels))\n",
    "print(\"Completeness:\", completeness_score(labels, clust_labels))\n",
    "print(\"V-measure\",  v_measure_score(labels, clust_labels))\n",
    "print(\"Adjusted Rand-Index:\",  adjusted_rand_score(labels, clust_labels))"
   ]
  },
  {
   "cell_type": "code",
   "execution_count": 26,
   "metadata": {},
   "outputs": [
    {
     "name": "stdout",
     "output_type": "stream",
     "text": [
      "[14  7  5 ...  7  3  5]\n"
     ]
    }
   ],
   "source": [
    "print(clust_labels)"
   ]
  },
  {
   "cell_type": "code",
   "execution_count": 16,
   "metadata": {
    "scrolled": true
   },
   "outputs": [
    {
     "ename": "ValueError",
     "evalue": "Mix of label input types (string and number)",
     "output_type": "error",
     "traceback": [
      "\u001b[0;31m---------------------------------------------------------------------------\u001b[0m",
      "\u001b[0;31mValueError\u001b[0m                                Traceback (most recent call last)",
      "\u001b[0;32m<ipython-input-16-28bc3f49e8dc>\u001b[0m in \u001b[0;36m<module>\u001b[0;34m()\u001b[0m\n\u001b[0;32m----> 1\u001b[0;31m \u001b[0mconfusion_matrix\u001b[0m\u001b[0;34m(\u001b[0m\u001b[0mlabels\u001b[0m\u001b[0;34m,\u001b[0m \u001b[0mclust_labels\u001b[0m\u001b[0;34m)\u001b[0m\u001b[0;34m\u001b[0m\u001b[0m\n\u001b[0m",
      "\u001b[0;32m~/miniconda3/envs/compling/lib/python3.6/site-packages/sklearn/metrics/classification.py\u001b[0m in \u001b[0;36mconfusion_matrix\u001b[0;34m(y_true, y_pred, labels, sample_weight)\u001b[0m\n\u001b[1;32m    253\u001b[0m \u001b[0;34m\u001b[0m\u001b[0m\n\u001b[1;32m    254\u001b[0m     \u001b[0;32mif\u001b[0m \u001b[0mlabels\u001b[0m \u001b[0;32mis\u001b[0m \u001b[0;32mNone\u001b[0m\u001b[0;34m:\u001b[0m\u001b[0;34m\u001b[0m\u001b[0m\n\u001b[0;32m--> 255\u001b[0;31m         \u001b[0mlabels\u001b[0m \u001b[0;34m=\u001b[0m \u001b[0munique_labels\u001b[0m\u001b[0;34m(\u001b[0m\u001b[0my_true\u001b[0m\u001b[0;34m,\u001b[0m \u001b[0my_pred\u001b[0m\u001b[0;34m)\u001b[0m\u001b[0;34m\u001b[0m\u001b[0m\n\u001b[0m\u001b[1;32m    256\u001b[0m     \u001b[0;32melse\u001b[0m\u001b[0;34m:\u001b[0m\u001b[0;34m\u001b[0m\u001b[0m\n\u001b[1;32m    257\u001b[0m         \u001b[0mlabels\u001b[0m \u001b[0;34m=\u001b[0m \u001b[0mnp\u001b[0m\u001b[0;34m.\u001b[0m\u001b[0masarray\u001b[0m\u001b[0;34m(\u001b[0m\u001b[0mlabels\u001b[0m\u001b[0;34m)\u001b[0m\u001b[0;34m\u001b[0m\u001b[0m\n",
      "\u001b[0;32m~/miniconda3/envs/compling/lib/python3.6/site-packages/sklearn/utils/multiclass.py\u001b[0m in \u001b[0;36munique_labels\u001b[0;34m(*ys)\u001b[0m\n\u001b[1;32m    101\u001b[0m     \u001b[0;31m# Check that we don't mix string type with number type\u001b[0m\u001b[0;34m\u001b[0m\u001b[0;34m\u001b[0m\u001b[0m\n\u001b[1;32m    102\u001b[0m     \u001b[0;32mif\u001b[0m \u001b[0;34m(\u001b[0m\u001b[0mlen\u001b[0m\u001b[0;34m(\u001b[0m\u001b[0mset\u001b[0m\u001b[0;34m(\u001b[0m\u001b[0misinstance\u001b[0m\u001b[0;34m(\u001b[0m\u001b[0mlabel\u001b[0m\u001b[0;34m,\u001b[0m \u001b[0mstring_types\u001b[0m\u001b[0;34m)\u001b[0m \u001b[0;32mfor\u001b[0m \u001b[0mlabel\u001b[0m \u001b[0;32min\u001b[0m \u001b[0mys_labels\u001b[0m\u001b[0;34m)\u001b[0m\u001b[0;34m)\u001b[0m \u001b[0;34m>\u001b[0m \u001b[0;36m1\u001b[0m\u001b[0;34m)\u001b[0m\u001b[0;34m:\u001b[0m\u001b[0;34m\u001b[0m\u001b[0m\n\u001b[0;32m--> 103\u001b[0;31m         \u001b[0;32mraise\u001b[0m \u001b[0mValueError\u001b[0m\u001b[0;34m(\u001b[0m\u001b[0;34m\"Mix of label input types (string and number)\"\u001b[0m\u001b[0;34m)\u001b[0m\u001b[0;34m\u001b[0m\u001b[0m\n\u001b[0m\u001b[1;32m    104\u001b[0m \u001b[0;34m\u001b[0m\u001b[0m\n\u001b[1;32m    105\u001b[0m     \u001b[0;32mreturn\u001b[0m \u001b[0mnp\u001b[0m\u001b[0;34m.\u001b[0m\u001b[0marray\u001b[0m\u001b[0;34m(\u001b[0m\u001b[0msorted\u001b[0m\u001b[0;34m(\u001b[0m\u001b[0mys_labels\u001b[0m\u001b[0;34m)\u001b[0m\u001b[0;34m)\u001b[0m\u001b[0;34m\u001b[0m\u001b[0m\n",
      "\u001b[0;31mValueError\u001b[0m: Mix of label input types (string and number)"
     ]
    }
   ],
   "source": [
    "confusion_matrix(labels, clust_labels)"
   ]
  },
  {
   "cell_type": "code",
   "execution_count": 27,
   "metadata": {
    "scrolled": false
   },
   "outputs": [
    {
     "name": "stdout",
     "output_type": "stream",
     "text": [
      "0\n",
      "final_rubrics\n",
      "Космос         450\n",
      "Физика          31\n",
      "Футурология      4\n",
      "История          1\n",
      "Name: final_rubrics, dtype: int64\n",
      "\n",
      "\n",
      "1\n",
      "final_rubrics\n",
      "Физика                 823\n",
      "Технологии             432\n",
      "Химия                  311\n",
      "Космос                 126\n",
      "Биология                97\n",
      "Физиология человека     38\n",
      "Науки о земле           33\n",
      "Футурология             18\n",
      "Математика              12\n",
      "Computer Science        10\n",
      "История                  6\n",
      "Name: final_rubrics, dtype: int64\n",
      "\n",
      "\n",
      "2\n",
      "final_rubrics\n",
      "История                556\n",
      "Социология             328\n",
      "Культура               272\n",
      "Технологии             178\n",
      "Экономика              172\n",
      "Физиология человека    130\n",
      "Философия              108\n",
      "Психология             101\n",
      "Computer Science        65\n",
      "Математика              64\n",
      "Физика                  64\n",
      "Биология                60\n",
      "Космос                  54\n",
      "Политология             45\n",
      "Язык                    45\n",
      "Науки о земле           37\n",
      "Футурология             29\n",
      "Химия                   20\n",
      "Name: final_rubrics, dtype: int64\n",
      "\n",
      "\n",
      "3\n",
      "final_rubrics\n",
      "Космос         706\n",
      "Физика          16\n",
      "Культура         3\n",
      "Футурология      3\n",
      "Биология         2\n",
      "История          2\n",
      "Технологии       2\n",
      "Name: final_rubrics, dtype: int64\n",
      "\n",
      "\n",
      "4\n",
      "final_rubrics\n",
      "История                22\n",
      "Биология               21\n",
      "Культура               17\n",
      "Язык                   15\n",
      "Физика                 12\n",
      "Социология              9\n",
      "Физиология человека     9\n",
      "Математика              8\n",
      "Экономика               7\n",
      "Космос                  6\n",
      "Политология             6\n",
      "Технологии              5\n",
      "Химия                   3\n",
      "Психология              2\n",
      "Науки о земле           1\n",
      "Name: final_rubrics, dtype: int64\n",
      "\n",
      "\n",
      "5\n",
      "final_rubrics\n",
      "Биология               1063\n",
      "Физиология человека     515\n",
      "Технологии              108\n",
      "Физика                   13\n",
      "Computer Science         11\n",
      "Футурология               9\n",
      "Химия                     8\n",
      "История                   4\n",
      "Космос                    4\n",
      "Психология                3\n",
      "Культура                  1\n",
      "Язык                      1\n",
      "Name: final_rubrics, dtype: int64\n",
      "\n",
      "\n",
      "6\n",
      "final_rubrics\n",
      "Космос    76\n",
      "Name: final_rubrics, dtype: int64\n",
      "\n",
      "\n",
      "7\n",
      "final_rubrics\n",
      "История                1239\n",
      "Биология                 82\n",
      "Физиология человека      72\n",
      "Культура                 59\n",
      "Науки о земле            26\n",
      "Язык                     16\n",
      "Технологии               10\n",
      "Космос                    9\n",
      "Социология                5\n",
      "Химия                     4\n",
      "Физика                    3\n",
      "Computer Science          1\n",
      "Математика                1\n",
      "Футурология               1\n",
      "Name: final_rubrics, dtype: int64\n",
      "\n",
      "\n",
      "8\n",
      "final_rubrics\n",
      "Физика                 399\n",
      "Космос                 124\n",
      "Технологии              11\n",
      "Физиология человека      5\n",
      "Футурология              4\n",
      "Математика               1\n",
      "Химия                    1\n",
      "Name: final_rubrics, dtype: int64\n",
      "\n",
      "\n",
      "9\n",
      "final_rubrics\n",
      "Технологии             387\n",
      "Computer Science         2\n",
      "История                  2\n",
      "Биология                 1\n",
      "Космос                   1\n",
      "Математика               1\n",
      "Науки о земле            1\n",
      "Физика                   1\n",
      "Физиология человека      1\n",
      "Name: final_rubrics, dtype: int64\n",
      "\n",
      "\n",
      "10\n",
      "final_rubrics\n",
      "Технологии             469\n",
      "Космос                  17\n",
      "Computer Science         5\n",
      "Биология                 5\n",
      "Физика                   5\n",
      "Математика               4\n",
      "Футурология              4\n",
      "История                  3\n",
      "Физиология человека      2\n",
      "Психология               1\n",
      "Химия                    1\n",
      "Name: final_rubrics, dtype: int64\n",
      "\n",
      "\n",
      "11\n",
      "final_rubrics\n",
      "Язык                   301\n",
      "История                 19\n",
      "Культура                18\n",
      "Технологии               9\n",
      "Computer Science         7\n",
      "Физиология человека      7\n",
      "Биология                 5\n",
      "Психология               5\n",
      "Социология               4\n",
      "Физика                   4\n",
      "Футурология              1\n",
      "Name: final_rubrics, dtype: int64\n",
      "\n",
      "\n",
      "12\n",
      "final_rubrics\n",
      "Космос                 2172\n",
      "Футурология              37\n",
      "Технологии               35\n",
      "Физика                   12\n",
      "Науки о земле            10\n",
      "Биология                  6\n",
      "История                   2\n",
      "Computer Science          1\n",
      "Культура                  1\n",
      "Физиология человека       1\n",
      "Name: final_rubrics, dtype: int64\n",
      "\n",
      "\n",
      "13\n",
      "final_rubrics\n",
      "Технологии             2860\n",
      "Физиология человека     905\n",
      "Биология                636\n",
      "Космос                  466\n",
      "Физика                  305\n",
      "Computer Science        301\n",
      "Культура                277\n",
      "История                 275\n",
      "Психология              261\n",
      "Математика              153\n",
      "Науки о земле           144\n",
      "Язык                    138\n",
      "Социология              116\n",
      "Химия                   111\n",
      "Футурология              68\n",
      "Экономика                53\n",
      "Философия                33\n",
      "Политология               3\n",
      "Name: final_rubrics, dtype: int64\n",
      "\n",
      "\n",
      "14\n",
      "final_rubrics\n",
      "Биология               2069\n",
      "Науки о земле           322\n",
      "История                 126\n",
      "Физиология человека     113\n",
      "Технологии               71\n",
      "Космос                   50\n",
      "Культура                 49\n",
      "Физика                   20\n",
      "Химия                    19\n",
      "Computer Science         11\n",
      "Язык                     11\n",
      "Футурология               8\n",
      "Психология                7\n",
      "Математика                5\n",
      "Социология                2\n",
      "Политология               1\n",
      "Философия                 1\n",
      "Name: final_rubrics, dtype: int64\n",
      "\n",
      "\n",
      "15\n",
      "final_rubrics\n",
      "Физика                 45\n",
      "Технологии             33\n",
      "Химия                  25\n",
      "Биология                1\n",
      "Космос                  1\n",
      "Физиология человека     1\n",
      "Name: final_rubrics, dtype: int64\n",
      "\n",
      "\n",
      "16\n",
      "final_rubrics\n",
      "Физика                 214\n",
      "Технологии              24\n",
      "Computer Science         6\n",
      "Космос                   6\n",
      "Физиология человека      2\n",
      "Химия                    2\n",
      "Биология                 1\n",
      "Футурология              1\n",
      "Name: final_rubrics, dtype: int64\n",
      "\n",
      "\n",
      "17\n",
      "final_rubrics\n",
      "Технологии             1139\n",
      "Космос                   55\n",
      "Культура                  2\n",
      "Физика                    2\n",
      "Computer Science          1\n",
      "Науки о земле             1\n",
      "Физиология человека       1\n",
      "Футурология               1\n",
      "Химия                     1\n",
      "Name: final_rubrics, dtype: int64\n",
      "\n",
      "\n"
     ]
    }
   ],
   "source": [
    "for i in range(18):\n",
    "    print(i)\n",
    "    print(labels.groupby(clust_labels).value_counts()[i])\n",
    "    print('\\n')"
   ]
  },
  {
   "cell_type": "code",
   "execution_count": null,
   "metadata": {},
   "outputs": [],
   "source": [
    "sns.heatmap(data=confusion_matrix(labels, clust_labels), \n",
    "            annot=True, fmt=\"d\", cbar=False)\n",
    "\n",
    "#            , xticklabels=['male', 'female'], \n",
    "#                                             yticklabels=['male', 'female'])\n",
    "plt.title(\"Confusion matrix\")\n",
    "plt.show()"
   ]
  },
  {
   "cell_type": "markdown",
   "metadata": {},
   "source": [
    "## Hierarchical clustering"
   ]
  },
  {
   "cell_type": "code",
   "execution_count": 30,
   "metadata": {},
   "outputs": [
    {
     "data": {
      "text/plain": [
       "Pipeline(memory=None,\n",
       "     steps=[('svd', TruncatedSVD(algorithm='randomized', n_components=1500, n_iter=5,\n",
       "       random_state=None, tol=0.0)), ('clust', AgglomerativeClustering(affinity='euclidean', compute_full_tree='auto',\n",
       "            connectivity=None, linkage='ward', memory=None, n_clusters=18,\n",
       "            pooling_func=<function mean at 0x7ff32c908d08>))])"
      ]
     },
     "execution_count": 30,
     "metadata": {},
     "output_type": "execute_result"
    }
   ],
   "source": [
    "pipeline2 = Pipeline([\n",
    "    #('vect', CountVectorizer(min_df = 2, stop_words = stopwords, max_features = 75000)),\n",
    "    #('tfidf', TfidfTransformer()),\n",
    "    ('svd', TruncatedSVD(n_components = 1500)),\n",
    "    #('norm', Normalizer() ),\n",
    "    ('clust', AgglomerativeClustering(n_clusters = 18, affinity = 'euclidean')) \n",
    "])\n",
    "\n",
    "pipeline2.fit(tfidf_vectorized)"
   ]
  },
  {
   "cell_type": "code",
   "execution_count": 31,
   "metadata": {},
   "outputs": [
    {
     "name": "stdout",
     "output_type": "stream",
     "text": [
      "Homogeneity: 0.35088242047674745\n",
      "Completeness: 0.35788221530484154\n",
      "V-measure 0.35434775272969454\n",
      "Adjusted Rand-Index: 0.18100658050869442\n"
     ]
    }
   ],
   "source": [
    "clust_labels2 = pipeline2.named_steps['clust'].labels_\n",
    "#labels2 = articles_good_rubrics.final_rubrics\n",
    "\n",
    "print(\"Homogeneity:\", homogeneity_score(labels, clust_labels2))\n",
    "print(\"Completeness:\", completeness_score(labels, clust_labels2))\n",
    "print(\"V-measure\",  v_measure_score(labels, clust_labels2))\n",
    "print(\"Adjusted Rand-Index:\",  adjusted_rand_score(labels, clust_labels2))"
   ]
  },
  {
   "cell_type": "code",
   "execution_count": 33,
   "metadata": {
    "scrolled": false
   },
   "outputs": [
    {
     "name": "stdout",
     "output_type": "stream",
     "text": [
      "0\n",
      "final_rubrics\n",
      "Физика                 490\n",
      "Космос                  47\n",
      "Технологии              40\n",
      "Computer Science         6\n",
      "Химия                    6\n",
      "Физиология человека      5\n",
      "Биология                 3\n",
      "Математика               2\n",
      "Футурология              2\n",
      "Name: final_rubrics, dtype: int64\n",
      "\n",
      "\n",
      "1\n",
      "final_rubrics\n",
      "Технологии          1022\n",
      "Космос                64\n",
      "Физика                10\n",
      "История                5\n",
      "Биология               3\n",
      "Футурология            3\n",
      "Computer Science       2\n",
      "Науки о земле          2\n",
      "Культура               1\n",
      "Name: final_rubrics, dtype: int64\n",
      "\n",
      "\n",
      "2\n",
      "final_rubrics\n",
      "Биология               2346\n",
      "Физиология человека     928\n",
      "Технологии              418\n",
      "Психология              220\n",
      "История                 176\n",
      "Науки о земле           110\n",
      "Культура                 72\n",
      "Физика                   53\n",
      "Социология               51\n",
      "Химия                    50\n",
      "Космос                   48\n",
      "Computer Science         46\n",
      "Язык                     35\n",
      "Математика               23\n",
      "Философия                18\n",
      "Футурология              17\n",
      "Экономика                 4\n",
      "Политология               2\n",
      "Name: final_rubrics, dtype: int64\n",
      "\n",
      "\n",
      "3\n",
      "final_rubrics\n",
      "История                669\n",
      "Социология             268\n",
      "Технологии             227\n",
      "Культура               222\n",
      "Экономика              131\n",
      "Философия               76\n",
      "Язык                    68\n",
      "Биология                60\n",
      "Физиология человека     58\n",
      "Космос                  54\n",
      "Computer Science        48\n",
      "Политология             46\n",
      "Физика                  33\n",
      "Химия                   23\n",
      "Математика              19\n",
      "Науки о земле           19\n",
      "Психология              13\n",
      "Футурология              5\n",
      "Name: final_rubrics, dtype: int64\n",
      "\n",
      "\n",
      "4\n",
      "final_rubrics\n",
      "Космос                 1709\n",
      "Технологии               59\n",
      "Науки о земле            29\n",
      "Физика                   27\n",
      "Футурология              27\n",
      "Биология                 15\n",
      "Культура                 11\n",
      "История                   9\n",
      "Физиология человека       8\n",
      "Computer Science          4\n",
      "Химия                     3\n",
      "Математика                2\n",
      "Психология                1\n",
      "Name: final_rubrics, dtype: int64\n",
      "\n",
      "\n",
      "5\n",
      "final_rubrics\n",
      "Технологии             3066\n",
      "Физика                 1169\n",
      "Космос                  466\n",
      "Биология                356\n",
      "Химия                   353\n",
      "Науки о земле           348\n",
      "Физиология человека     299\n",
      "Культура                297\n",
      "История                 288\n",
      "Computer Science        281\n",
      "Математика              182\n",
      "Психология              128\n",
      "Социология              127\n",
      "Футурология             104\n",
      "Экономика                88\n",
      "Язык                     72\n",
      "Философия                43\n",
      "Политология               2\n",
      "Name: final_rubrics, dtype: int64\n",
      "\n",
      "\n",
      "6\n",
      "final_rubrics\n",
      "Космос         327\n",
      "Физика          47\n",
      "История          1\n",
      "Футурология      1\n",
      "Name: final_rubrics, dtype: int64\n",
      "\n",
      "\n",
      "7\n",
      "final_rubrics\n",
      "История                1049\n",
      "Биология                240\n",
      "Физиология человека     100\n",
      "Культура                 58\n",
      "Науки о земле            46\n",
      "Технологии               28\n",
      "Язык                     12\n",
      "Космос                   10\n",
      "Computer Science          7\n",
      "Физика                    6\n",
      "Химия                     5\n",
      "Социология                3\n",
      "Экономика                 2\n",
      "Математика                1\n",
      "Психология                1\n",
      "Философия                 1\n",
      "Футурология               1\n",
      "Name: final_rubrics, dtype: int64\n",
      "\n",
      "\n",
      "8\n",
      "final_rubrics\n",
      "Космос                 127\n",
      "Физика                  53\n",
      "Футурология              3\n",
      "Технологии               2\n",
      "Биология                 1\n",
      "Математика               1\n",
      "Науки о земле            1\n",
      "Физиология человека      1\n",
      "Name: final_rubrics, dtype: int64\n",
      "\n",
      "\n",
      "9\n",
      "final_rubrics\n",
      "Технологии             370\n",
      "Космос                  11\n",
      "Computer Science         6\n",
      "Биология                 5\n",
      "Физика                   4\n",
      "Футурология              3\n",
      "История                  2\n",
      "Математика               2\n",
      "Физиология человека      1\n",
      "Name: final_rubrics, dtype: int64\n",
      "\n",
      "\n",
      "10\n",
      "final_rubrics\n",
      "Космос                 846\n",
      "Физика                  20\n",
      "Футурология              9\n",
      "Технологии               8\n",
      "История                  6\n",
      "Культура                 5\n",
      "Биология                 2\n",
      "Физиология человека      2\n",
      "Математика               1\n",
      "Психология               1\n",
      "Химия                    1\n",
      "Name: final_rubrics, dtype: int64\n",
      "\n",
      "\n",
      "11\n",
      "final_rubrics\n",
      "Технологии             378\n",
      "История                  4\n",
      "Математика               4\n",
      "Психология               3\n",
      "Науки о земле            2\n",
      "Computer Science         1\n",
      "Социология               1\n",
      "Физика                   1\n",
      "Физиология человека      1\n",
      "Name: final_rubrics, dtype: int64\n",
      "\n",
      "\n",
      "12\n",
      "final_rubrics\n",
      "Биология               996\n",
      "Физиология человека    384\n",
      "Технологии             118\n",
      "Химия                   63\n",
      "Физика                  36\n",
      "Космос                  32\n",
      "Науки о земле           13\n",
      "Computer Science        12\n",
      "История                  9\n",
      "Футурология              9\n",
      "Психология               4\n",
      "Социология               4\n",
      "Культура                 2\n",
      "Философия                1\n",
      "Язык                     1\n",
      "Name: final_rubrics, dtype: int64\n",
      "\n",
      "\n",
      "13\n",
      "final_rubrics\n",
      "Космос         160\n",
      "Футурология      1\n",
      "Name: final_rubrics, dtype: int64\n",
      "\n",
      "\n",
      "14\n",
      "final_rubrics\n",
      "Космос           137\n",
      "Футурология        2\n",
      "Науки о земле      1\n",
      "Технологии         1\n",
      "Name: final_rubrics, dtype: int64\n",
      "\n",
      "\n",
      "15\n",
      "final_rubrics\n",
      "История                23\n",
      "Биология               22\n",
      "Культура               18\n",
      "Физика                 16\n",
      "Язык                   14\n",
      "Космос                 13\n",
      "Физиология человека    10\n",
      "Математика              8\n",
      "Социология              7\n",
      "Экономика               7\n",
      "Политология             5\n",
      "Технологии              4\n",
      "Психология              3\n",
      "Науки о земле           2\n",
      "Химия                   2\n",
      "Name: final_rubrics, dtype: int64\n",
      "\n",
      "\n",
      "16\n",
      "final_rubrics\n",
      "Язык                   325\n",
      "Технологии              17\n",
      "История                 16\n",
      "Культура                13\n",
      "Computer Science         8\n",
      "Психология               6\n",
      "Физиология человека      5\n",
      "Математика               4\n",
      "Социология               3\n",
      "Физика                   3\n",
      "Философия                3\n",
      "Науки о земле            2\n",
      "Футурология              1\n",
      "Name: final_rubrics, dtype: int64\n",
      "\n",
      "\n",
      "17\n",
      "final_rubrics\n",
      "Космос        272\n",
      "Технологии     15\n",
      "Физика          1\n",
      "Name: final_rubrics, dtype: int64\n",
      "\n",
      "\n"
     ]
    }
   ],
   "source": [
    "for i in range(18):\n",
    "    print(i)\n",
    "    print(labels.groupby(clust_labels2).value_counts()[i])\n",
    "    print('\\n')"
   ]
  },
  {
   "cell_type": "code",
   "execution_count": 39,
   "metadata": {},
   "outputs": [
    {
     "data": {
      "text/plain": [
       "final_rubrics\n",
       "Технологии             5773\n",
       "Космос                 4323\n",
       "Биология               4049\n",
       "История                2257\n",
       "Физика                 1969\n",
       "Физиология человека    1802\n",
       "Культура                699\n",
       "Науки о земле           575\n",
       "Язык                    527\n",
       "Химия                   506\n",
       "Социология              464\n",
       "Computer Science        421\n",
       "Психология              380\n",
       "Математика              249\n",
       "Экономика               232\n",
       "Футурология             188\n",
       "Философия               142\n",
       "Политология              55\n",
       "dtype: int64"
      ]
     },
     "execution_count": 39,
     "metadata": {},
     "output_type": "execute_result"
    }
   ],
   "source": [
    "articles_good_rubrics.groupby(['final_rubrics']).size().sort_values(ascending = False)"
   ]
  },
  {
   "cell_type": "code",
   "execution_count": null,
   "metadata": {},
   "outputs": [],
   "source": []
  },
  {
   "cell_type": "markdown",
   "metadata": {},
   "source": [
    "### Results\n",
    "\n",
    "Общие (для двух методов):\n",
    "1. Выделяется большой блок Технология (3000 текстов) + Космос, Физика \n",
    "2. Космос разбивается на несколько кластеров (1500, 800 + мелкие кластеры)\n",
    "3. Выделяется блок гуманитарных наук (История, Социология, Культура, Экономика + Технологии)\n",
    "4. Выделяется блок История + Биология\n",
    "5. Выделяется блок Биология + Физиология\n",
    "6. Выделяется блок Язык (300 текстов из 500)\n",
    "\n",
    "K-means смешивает Технологии (3000) + Биология (2000) + Физика, Физиология, Космос <br>\n",
    "Hierarchical clustering выдеялет 2 больших кластера Технологии + Космос+ Физика\n"
   ]
  },
  {
   "cell_type": "code",
   "execution_count": 9,
   "metadata": {},
   "outputs": [],
   "source": [
    "import numpy as np\n",
    "\n",
    "from matplotlib import pyplot as plt\n",
    "from scipy.cluster.hierarchy import dendrogram"
   ]
  },
  {
   "cell_type": "code",
   "execution_count": 8,
   "metadata": {},
   "outputs": [
    {
     "data": {
      "text/plain": [
       "Pipeline(memory=None,\n",
       "     steps=[('svd', TruncatedSVD(algorithm='randomized', n_components=1500, n_iter=5,\n",
       "       random_state=None, tol=0.0)), ('clust', AgglomerativeClustering(affinity='euclidean', compute_full_tree='auto',\n",
       "            connectivity=None, linkage='ward', memory=None, n_clusters=18,\n",
       "            pooling_func=<function mean at 0x7f6cd8408d90>))])"
      ]
     },
     "execution_count": 8,
     "metadata": {},
     "output_type": "execute_result"
    }
   ],
   "source": [
    "pipeline3 = Pipeline([\n",
    "    #('vect', CountVectorizer(min_df = 2, stop_words = stopwords, max_features = 75000)),\n",
    "    #('tfidf', TfidfTransformer()),\n",
    "    ('svd', TruncatedSVD(n_components = 1500)),\n",
    "    #('norm', Normalizer() ),\n",
    "    ('clust', AgglomerativeClustering(n_clusters = 18, affinity = 'euclidean')) \n",
    "])\n",
    "\n",
    "pipeline3.fit(tfidf_vectorized)"
   ]
  },
  {
   "cell_type": "code",
   "execution_count": 13,
   "metadata": {},
   "outputs": [],
   "source": [
    "clust_labels3 = pipeline3.named_steps['clust'].labels_"
   ]
  },
  {
   "cell_type": "code",
   "execution_count": 15,
   "metadata": {},
   "outputs": [],
   "source": [
    "def plot_dendrogram(model, **kwargs):\n",
    "\n",
    "    # Children of hierarchical clustering\n",
    "    children = model.named_steps['clust'].children_\n",
    "\n",
    "    # Distances between each pair of children\n",
    "    # Since we don't have this information, we can use a uniform one for plotting\n",
    "    distance = np.arange(children.shape[0])\n",
    "\n",
    "    # The number of observations contained in each cluster level\n",
    "    no_of_observations = np.arange(2, children.shape[0]+2)\n",
    "\n",
    "    # Create linkage matrix and then plot the dendrogram\n",
    "    linkage_matrix = np.column_stack([children, distance, no_of_observations]).astype(float)\n",
    "\n",
    "    # Plot the corresponding dendrogram\n",
    "    dendrogram(linkage_matrix, **kwargs)"
   ]
  },
  {
   "cell_type": "code",
   "execution_count": 18,
   "metadata": {},
   "outputs": [
    {
     "data": {
      "text/plain": [
       "Pipeline(memory=None,\n",
       "     steps=[('svd', TruncatedSVD(algorithm='randomized', n_components=1500, n_iter=5,\n",
       "       random_state=None, tol=0.0)), ('clust', AgglomerativeClustering(affinity='euclidean', compute_full_tree='auto',\n",
       "            connectivity=None, linkage='ward', memory=None, n_clusters=8,\n",
       "            pooling_func=<function mean at 0x7f6cd8408d90>))])"
      ]
     },
     "execution_count": 18,
     "metadata": {},
     "output_type": "execute_result"
    }
   ],
   "source": [
    "pipeline4 = Pipeline([\n",
    "    #('vect', CountVectorizer(min_df = 2, stop_words = stopwords, max_features = 75000)),\n",
    "    #('tfidf', TfidfTransformer()),\n",
    "    ('svd', TruncatedSVD(n_components = 1500)),\n",
    "    #('norm', Normalizer() ),\n",
    "    ('clust', AgglomerativeClustering(n_clusters = 8, affinity = 'euclidean')) \n",
    "])\n",
    "\n",
    "pipeline4.fit(tfidf_vectorized)"
   ]
  },
  {
   "cell_type": "code",
   "execution_count": 21,
   "metadata": {},
   "outputs": [
    {
     "name": "stdout",
     "output_type": "stream",
     "text": [
      "Homogeneity: 0.2694003825075109\n",
      "Completeness: 0.3762085566690345\n",
      "V-measure 0.3139694106420096\n",
      "Adjusted Rand-Index: 0.14105022747590876\n"
     ]
    }
   ],
   "source": [
    "clust_labels4 = pipeline4.named_steps['clust'].labels_\n",
    "labels = articles_good_rubrics.final_rubrics\n",
    "\n",
    "print(\"Homogeneity:\", homogeneity_score(labels, clust_labels4))\n",
    "print(\"Completeness:\", completeness_score(labels, clust_labels4))\n",
    "print(\"V-measure\",  v_measure_score(labels, clust_labels4))\n",
    "print(\"Adjusted Rand-Index:\",  adjusted_rand_score(labels, clust_labels4))"
   ]
  },
  {
   "cell_type": "code",
   "execution_count": 22,
   "metadata": {
    "scrolled": false
   },
   "outputs": [
    {
     "name": "stdout",
     "output_type": "stream",
     "text": [
      "0\n",
      "final_rubrics\n",
      "Космос                 1025\n",
      "Физика                  108\n",
      "Футурология               8\n",
      "Культура                  4\n",
      "Технологии                4\n",
      "Computer Science          3\n",
      "Биология                  2\n",
      "История                   1\n",
      "Математика                1\n",
      "Социология                1\n",
      "Физиология человека       1\n",
      "Name: final_rubrics, dtype: int64\n",
      "\n",
      "\n",
      "1\n",
      "final_rubrics\n",
      "Космос                 2557\n",
      "Физика                   52\n",
      "Технологии               51\n",
      "Футурология              49\n",
      "Науки о земле            37\n",
      "Биология                 16\n",
      "История                  16\n",
      "Химия                     8\n",
      "Физиология человека       7\n",
      "Культура                  5\n",
      "Математика                2\n",
      "Философия                 2\n",
      "Computer Science          1\n",
      "Психология                1\n",
      "Экономика                 1\n",
      "Name: final_rubrics, dtype: int64\n",
      "\n",
      "\n",
      "2\n",
      "final_rubrics\n",
      "Технологии             3243\n",
      "Биология               2155\n",
      "История                1392\n",
      "Физика                 1209\n",
      "Космос                  486\n",
      "Науки о земле           473\n",
      "Физиология человека     389\n",
      "Химия                   365\n",
      "Computer Science        292\n",
      "Культура                268\n",
      "Математика              165\n",
      "Язык                    105\n",
      "Психология               89\n",
      "Социология               85\n",
      "Футурология              76\n",
      "Экономика                47\n",
      "Философия                18\n",
      "Политология               4\n",
      "Name: final_rubrics, dtype: int64\n",
      "\n",
      "\n",
      "3\n",
      "final_rubrics\n",
      "Технологии             1354\n",
      "Космос                   68\n",
      "Физика                   10\n",
      "История                   8\n",
      "Математика                4\n",
      "Науки о земле             4\n",
      "Футурология               4\n",
      "Computer Science          2\n",
      "Биология                  2\n",
      "Физиология человека       2\n",
      "Химия                     2\n",
      "Культура                  1\n",
      "Психология                1\n",
      "Социология                1\n",
      "Name: final_rubrics, dtype: int64\n",
      "\n",
      "\n",
      "4\n",
      "final_rubrics\n",
      "Биология               1753\n",
      "Физиология человека    1270\n",
      "Технологии              413\n",
      "Психология              240\n",
      "История                  92\n",
      "Химия                    56\n",
      "Социология               45\n",
      "Физика                   44\n",
      "Космос                   42\n",
      "Computer Science         41\n",
      "Культура                 32\n",
      "Науки о земле            32\n",
      "Язык                     29\n",
      "Футурология              24\n",
      "Математика               16\n",
      "Философия                15\n",
      "Экономика                 4\n",
      "Name: final_rubrics, dtype: int64\n",
      "\n",
      "\n",
      "5\n",
      "final_rubrics\n",
      "Технологии             362\n",
      "Космос                  12\n",
      "Биология                 5\n",
      "Физика                   4\n",
      "Футурология              3\n",
      "Computer Science         2\n",
      "История                  2\n",
      "Математика               2\n",
      "Физиология человека      1\n",
      "Name: final_rubrics, dtype: int64\n",
      "\n",
      "\n",
      "6\n",
      "final_rubrics\n",
      "История                744\n",
      "Язык                   393\n",
      "Культура               389\n",
      "Социология             332\n",
      "Технологии             312\n",
      "Экономика              180\n",
      "Физиология человека    128\n",
      "Биология               114\n",
      "Философия              107\n",
      "Физика                  97\n",
      "Космос                  93\n",
      "Computer Science        76\n",
      "Химия                   69\n",
      "Математика              59\n",
      "Политология             51\n",
      "Психология              49\n",
      "Науки о земле           29\n",
      "Футурология             22\n",
      "Name: final_rubrics, dtype: int64\n",
      "\n",
      "\n",
      "7\n",
      "final_rubrics\n",
      "Физика                 445\n",
      "Космос                  40\n",
      "Технологии              34\n",
      "Химия                    6\n",
      "Computer Science         4\n",
      "Физиология человека      4\n",
      "Биология                 2\n",
      "История                  2\n",
      "Футурология              2\n",
      "Name: final_rubrics, dtype: int64\n",
      "\n",
      "\n"
     ]
    }
   ],
   "source": [
    "for i in range(8):\n",
    "    print(i)\n",
    "    print(labels.groupby(clust_labels4).value_counts()[i])\n",
    "    print('\\n')"
   ]
  },
  {
   "cell_type": "code",
   "execution_count": 23,
   "metadata": {},
   "outputs": [
    {
     "data": {
      "image/png": "[encoded data removed]",
      "text/plain": [
       "<Figure size 1080x1080 with 1 Axes>"
      ]
     },
     "metadata": {},
     "output_type": "display_data"
    }
   ],
   "source": [
    "plt.figure(figsize=(15, 15))\n",
    "plt.title('Hierarchical Clustering Dendrogram')\n",
    "plot_dendrogram(pipeline4, labels=clust_labels4)\n",
    "plt.show()"
   ]
  },
  {
   "cell_type": "code",
   "execution_count": null,
   "metadata": {},
   "outputs": [],
   "source": []
  }
 ],
 "metadata": {
  "kernelspec": {
   "display_name": "Python 3",
   "language": "python",
   "name": "python3"
  },
  "language_info": {
   "codemirror_mode": {
    "name": "ipython",
    "version": 3
   },
   "file_extension": ".py",
   "mimetype": "text/x-python",
   "name": "python",
   "nbconvert_exporter": "python",
   "pygments_lexer": "ipython3",
   "version": "3.6.4"
  }
 },
 "nbformat": 4,
 "nbformat_minor": 2
}
